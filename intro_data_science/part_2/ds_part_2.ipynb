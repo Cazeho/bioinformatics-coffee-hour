{
 "metadata": {
  "language_info": {
   "codemirror_mode": {
    "name": "ipython",
    "version": 3
   },
   "file_extension": ".py",
   "mimetype": "text/x-python",
   "name": "python",
   "nbconvert_exporter": "python",
   "pygments_lexer": "ipython3",
   "version": "3.8.2-final"
  },
  "orig_nbformat": 2,
  "kernelspec": {
   "name": "python3",
   "display_name": "Python 3",
   "language": "python"
  }
 },
 "nbformat": 4,
 "nbformat_minor": 2,
 "cells": [
  {
   "source": [
    "# A Brief Introduction to Matplotlib\n",
    "\n",
    "In this notebook, we will cover the basics of Matplotlib, a powerful, prolific library \n",
    "for organizing and visualizing data of all kinds. If you work in science, chances are you'll\n",
    "find a use case for this. Enjoy!"
   ],
   "cell_type": "markdown",
   "metadata": {}
  },
  {
   "cell_type": "code",
   "execution_count": null,
   "metadata": {},
   "outputs": [],
   "source": [
    "import matplotlib.pyplot as plt\n",
    "import numpy as np"
   ]
  },
  {
   "source": [
    "Now, let's make our first plot - a line graph! We're going to visualize data related to CO2 emissions."
   ],
   "cell_type": "markdown",
   "metadata": {}
  },
  {
   "cell_type": "code",
   "execution_count": null,
   "metadata": {},
   "outputs": [],
   "source": [
    "# Use numpy to generate range of years to cover\n",
    "\n",
    "# Emissions data for China\n",
    "china_emissions = [8500.543, 9388.199, 9633.899, 9796.527, 9820.36, 9716.468, 9704.479, 9838.754, 10064.686]\n",
    "\n",
    "# Emissions data for USA\n",
    "us_emissions = [5700.108, 5572.585, 5371.777, 5522.908, 5572.106, 5422.966, 5306.662, 5270.749, 5416.278]\n",
    "\n",
    "# Emissions data for India\n",
    "india_emissions = [1700.027, 1811.961, 1979.047, 1994.101, 2199.4, 2298.17, 2371.752, 2456.954, 2654.101]\n",
    "\n",
    "# Emissions data for Russia\n",
    "russia_emissions = [1613.523, 1613.523, 1679.385, 1618.434, 1617.678, 1622.498, 1617.653, 1647.041, 1710.688]\n",
    "\n",
    "# Add style to the x ticks\n",
    "\n",
    "# Add labels\n",
    "\n",
    "# Add a legend\n",
    "\n",
    "# Ensure a tight, uncluttered layout\n",
    "\n",
    "# Save the figure as png, jpg, and svg\n",
    "\n",
    "# Annotate with source\n",
    "\n",
    "# Set the plot style\n",
    "\n",
    "# Show the figure"
   ]
  },
  {
   "source": [
    "Looks pretty good! But it's hard to see the relationship between Russia and the other countries. Let's transform this into a bar graph."
   ],
   "cell_type": "markdown",
   "metadata": {}
  },
  {
   "cell_type": "code",
   "execution_count": null,
   "metadata": {},
   "outputs": [],
   "source": [
    "# Simple bar graph"
   ]
  },
  {
   "cell_type": "code",
   "execution_count": null,
   "metadata": {},
   "outputs": [],
   "source": [
    "# Stacked bar graph"
   ]
  },
  {
   "cell_type": "code",
   "execution_count": null,
   "metadata": {},
   "outputs": [],
   "source": [
    "# Grouped bar graph"
   ]
  },
  {
   "source": [
    "Great! Now let's explore this data as a percentage of the total global emissions."
   ],
   "cell_type": "markdown",
   "metadata": {}
  },
  {
   "cell_type": "code",
   "execution_count": null,
   "metadata": {},
   "outputs": [],
   "source": [
    "# Total global emissions for those years\n",
    "world_emissions = [33066.651, 34357.366, 34919.289, 35207.886, 35505.827, 35462.747, 35675.099, 36153.262, 36572.754]"
   ]
  },
  {
   "cell_type": "code",
   "execution_count": null,
   "metadata": {},
   "outputs": [],
   "source": [
    "# Plot multiple years on the same figure"
   ]
  },
  {
   "cell_type": "code",
   "execution_count": null,
   "metadata": {},
   "outputs": [],
   "source": []
  }
 ]
}