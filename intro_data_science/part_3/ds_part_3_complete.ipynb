{
 "metadata": {
  "language_info": {
   "codemirror_mode": {
    "name": "ipython",
    "version": 3
   },
   "file_extension": ".py",
   "mimetype": "text/x-python",
   "name": "python",
   "nbconvert_exporter": "python",
   "pygments_lexer": "ipython3",
   "version": "3.8.2-final"
  },
  "orig_nbformat": 2,
  "kernelspec": {
   "name": "python3",
   "display_name": "Python 3",
   "language": "python"
  }
 },
 "nbformat": 4,
 "nbformat_minor": 2,
 "cells": [
  {
   "source": [
    "# A Brief Introduction to Pandas\n",
    "### Wrangling data with Python\n",
    "\n",
    "In this notebook, we will cover the basics of Pandas, a dynamic, powerful Python library that is ubiquitous in the field of Data Science. It has robust I/O functionality and makes working with data a lot simpler than doing so in Excel. Let's get stared."
   ],
   "cell_type": "markdown",
   "metadata": {}
  },
  {
   "cell_type": "code",
   "execution_count": 198,
   "metadata": {},
   "outputs": [],
   "source": [
    "import pandas as pd\n",
    "import matplotlib.pyplot as pyplot"
   ]
  },
  {
   "source": [
    "## 1.1 DataFrames\n",
    "Let's read in some existing data using Pandas convenient read_csv method."
   ],
   "cell_type": "markdown",
   "metadata": {}
  },
  {
   "cell_type": "code",
   "execution_count": 94,
   "metadata": {},
   "outputs": [],
   "source": [
    "unemployment_df = pd.read_csv('./data/unemployment_2016.csv')"
   ]
  },
  {
   "cell_type": "code",
   "execution_count": 95,
   "metadata": {},
   "outputs": [
    {
     "output_type": "execute_result",
     "data": {
      "text/plain": [
       "pandas.core.frame.DataFrame"
      ]
     },
     "metadata": {},
     "execution_count": 95
    }
   ],
   "source": [
    "# Check the type\n",
    "# https://pandas.pydata.org/pandas-docs/stable/reference/api/pandas.DataFrame.html\n",
    "type(unemployment_df)"
   ]
  },
  {
   "cell_type": "code",
   "execution_count": 96,
   "metadata": {},
   "outputs": [
    {
     "output_type": "stream",
     "name": "stdout",
     "text": [
      "<class 'pandas.core.frame.DataFrame'>\nRangeIndex: 32 entries, 0 to 31\nData columns (total 2 columns):\n #   Column      Non-Null Count  Dtype  \n---  ------      --------------  -----  \n 0   country     32 non-null     object \n 1   unemp_rate  32 non-null     float64\ndtypes: float64(1), object(1)\nmemory usage: 640.0+ bytes\n"
     ]
    }
   ],
   "source": [
    "unemployment_df.info()"
   ]
  },
  {
   "cell_type": "code",
   "execution_count": 97,
   "metadata": {},
   "outputs": [
    {
     "output_type": "execute_result",
     "data": {
      "text/plain": [
       "       unemp_rate\n",
       "count   32.000000\n",
       "mean     8.337500\n",
       "std      4.393378\n",
       "min      3.000000\n",
       "25%      5.700000\n",
       "50%      7.300000\n",
       "75%      9.800000\n",
       "max     23.600000"
      ],
      "text/html": "<div>\n<style scoped>\n    .dataframe tbody tr th:only-of-type {\n        vertical-align: middle;\n    }\n\n    .dataframe tbody tr th {\n        vertical-align: top;\n    }\n\n    .dataframe thead th {\n        text-align: right;\n    }\n</style>\n<table border=\"1\" class=\"dataframe\">\n  <thead>\n    <tr style=\"text-align: right;\">\n      <th></th>\n      <th>unemp_rate</th>\n    </tr>\n  </thead>\n  <tbody>\n    <tr>\n      <th>count</th>\n      <td>32.000000</td>\n    </tr>\n    <tr>\n      <th>mean</th>\n      <td>8.337500</td>\n    </tr>\n    <tr>\n      <th>std</th>\n      <td>4.393378</td>\n    </tr>\n    <tr>\n      <th>min</th>\n      <td>3.000000</td>\n    </tr>\n    <tr>\n      <th>25%</th>\n      <td>5.700000</td>\n    </tr>\n    <tr>\n      <th>50%</th>\n      <td>7.300000</td>\n    </tr>\n    <tr>\n      <th>75%</th>\n      <td>9.800000</td>\n    </tr>\n    <tr>\n      <th>max</th>\n      <td>23.600000</td>\n    </tr>\n  </tbody>\n</table>\n</div>"
     },
     "metadata": {},
     "execution_count": 97
    }
   ],
   "source": [
    "unemployment_df.describe()"
   ]
  },
  {
   "cell_type": "code",
   "execution_count": 98,
   "metadata": {},
   "outputs": [],
   "source": [
    "# Select a single column\n",
    "# Using bracket notation\n",
    "countries = unemployment_df['country']\n",
    "# Using dot notation\n",
    "countries = unemployment_df.country"
   ]
  },
  {
   "cell_type": "code",
   "execution_count": 99,
   "metadata": {},
   "outputs": [
    {
     "output_type": "error",
     "ename": "KeyError",
     "evalue": "0",
     "traceback": [
      "\u001b[0;31m---------------------------------------------------------------------------\u001b[0m",
      "\u001b[0;31mKeyError\u001b[0m                                  Traceback (most recent call last)",
      "\u001b[0;32m~/Library/Python/3.8/lib/python/site-packages/pandas/core/indexes/base.py\u001b[0m in \u001b[0;36mget_loc\u001b[0;34m(self, key, method, tolerance)\u001b[0m\n\u001b[1;32m   3079\u001b[0m             \u001b[0;32mtry\u001b[0m\u001b[0;34m:\u001b[0m\u001b[0;34m\u001b[0m\u001b[0;34m\u001b[0m\u001b[0m\n\u001b[0;32m-> 3080\u001b[0;31m                 \u001b[0;32mreturn\u001b[0m \u001b[0mself\u001b[0m\u001b[0;34m.\u001b[0m\u001b[0m_engine\u001b[0m\u001b[0;34m.\u001b[0m\u001b[0mget_loc\u001b[0m\u001b[0;34m(\u001b[0m\u001b[0mcasted_key\u001b[0m\u001b[0;34m)\u001b[0m\u001b[0;34m\u001b[0m\u001b[0;34m\u001b[0m\u001b[0m\n\u001b[0m\u001b[1;32m   3081\u001b[0m             \u001b[0;32mexcept\u001b[0m \u001b[0mKeyError\u001b[0m \u001b[0;32mas\u001b[0m \u001b[0merr\u001b[0m\u001b[0;34m:\u001b[0m\u001b[0;34m\u001b[0m\u001b[0;34m\u001b[0m\u001b[0m\n",
      "\u001b[0;32mpandas/_libs/index.pyx\u001b[0m in \u001b[0;36mpandas._libs.index.IndexEngine.get_loc\u001b[0;34m()\u001b[0m\n",
      "\u001b[0;32mpandas/_libs/index.pyx\u001b[0m in \u001b[0;36mpandas._libs.index.IndexEngine.get_loc\u001b[0;34m()\u001b[0m\n",
      "\u001b[0;32mpandas/_libs/hashtable_class_helper.pxi\u001b[0m in \u001b[0;36mpandas._libs.hashtable.PyObjectHashTable.get_item\u001b[0;34m()\u001b[0m\n",
      "\u001b[0;32mpandas/_libs/hashtable_class_helper.pxi\u001b[0m in \u001b[0;36mpandas._libs.hashtable.PyObjectHashTable.get_item\u001b[0;34m()\u001b[0m\n",
      "\u001b[0;31mKeyError\u001b[0m: 0",
      "\nThe above exception was the direct cause of the following exception:\n",
      "\u001b[0;31mKeyError\u001b[0m                                  Traceback (most recent call last)",
      "\u001b[0;32m<ipython-input-99-736c59be97bf>\u001b[0m in \u001b[0;36m<module>\u001b[0;34m\u001b[0m\n\u001b[1;32m      1\u001b[0m \u001b[0;31m# Access by numeric index\u001b[0m\u001b[0;34m\u001b[0m\u001b[0;34m\u001b[0m\u001b[0;34m\u001b[0m\u001b[0m\n\u001b[0;32m----> 2\u001b[0;31m \u001b[0munemployment_df\u001b[0m\u001b[0;34m[\u001b[0m\u001b[0;36m0\u001b[0m\u001b[0;34m]\u001b[0m\u001b[0;34m\u001b[0m\u001b[0;34m\u001b[0m\u001b[0m\n\u001b[0m",
      "\u001b[0;32m~/Library/Python/3.8/lib/python/site-packages/pandas/core/frame.py\u001b[0m in \u001b[0;36m__getitem__\u001b[0;34m(self, key)\u001b[0m\n\u001b[1;32m   3022\u001b[0m             \u001b[0;32mif\u001b[0m \u001b[0mself\u001b[0m\u001b[0;34m.\u001b[0m\u001b[0mcolumns\u001b[0m\u001b[0;34m.\u001b[0m\u001b[0mnlevels\u001b[0m \u001b[0;34m>\u001b[0m \u001b[0;36m1\u001b[0m\u001b[0;34m:\u001b[0m\u001b[0;34m\u001b[0m\u001b[0;34m\u001b[0m\u001b[0m\n\u001b[1;32m   3023\u001b[0m                 \u001b[0;32mreturn\u001b[0m \u001b[0mself\u001b[0m\u001b[0;34m.\u001b[0m\u001b[0m_getitem_multilevel\u001b[0m\u001b[0;34m(\u001b[0m\u001b[0mkey\u001b[0m\u001b[0;34m)\u001b[0m\u001b[0;34m\u001b[0m\u001b[0;34m\u001b[0m\u001b[0m\n\u001b[0;32m-> 3024\u001b[0;31m             \u001b[0mindexer\u001b[0m \u001b[0;34m=\u001b[0m \u001b[0mself\u001b[0m\u001b[0;34m.\u001b[0m\u001b[0mcolumns\u001b[0m\u001b[0;34m.\u001b[0m\u001b[0mget_loc\u001b[0m\u001b[0;34m(\u001b[0m\u001b[0mkey\u001b[0m\u001b[0;34m)\u001b[0m\u001b[0;34m\u001b[0m\u001b[0;34m\u001b[0m\u001b[0m\n\u001b[0m\u001b[1;32m   3025\u001b[0m             \u001b[0;32mif\u001b[0m \u001b[0mis_integer\u001b[0m\u001b[0;34m(\u001b[0m\u001b[0mindexer\u001b[0m\u001b[0;34m)\u001b[0m\u001b[0;34m:\u001b[0m\u001b[0;34m\u001b[0m\u001b[0;34m\u001b[0m\u001b[0m\n\u001b[1;32m   3026\u001b[0m                 \u001b[0mindexer\u001b[0m \u001b[0;34m=\u001b[0m \u001b[0;34m[\u001b[0m\u001b[0mindexer\u001b[0m\u001b[0;34m]\u001b[0m\u001b[0;34m\u001b[0m\u001b[0;34m\u001b[0m\u001b[0m\n",
      "\u001b[0;32m~/Library/Python/3.8/lib/python/site-packages/pandas/core/indexes/base.py\u001b[0m in \u001b[0;36mget_loc\u001b[0;34m(self, key, method, tolerance)\u001b[0m\n\u001b[1;32m   3080\u001b[0m                 \u001b[0;32mreturn\u001b[0m \u001b[0mself\u001b[0m\u001b[0;34m.\u001b[0m\u001b[0m_engine\u001b[0m\u001b[0;34m.\u001b[0m\u001b[0mget_loc\u001b[0m\u001b[0;34m(\u001b[0m\u001b[0mcasted_key\u001b[0m\u001b[0;34m)\u001b[0m\u001b[0;34m\u001b[0m\u001b[0;34m\u001b[0m\u001b[0m\n\u001b[1;32m   3081\u001b[0m             \u001b[0;32mexcept\u001b[0m \u001b[0mKeyError\u001b[0m \u001b[0;32mas\u001b[0m \u001b[0merr\u001b[0m\u001b[0;34m:\u001b[0m\u001b[0;34m\u001b[0m\u001b[0;34m\u001b[0m\u001b[0m\n\u001b[0;32m-> 3082\u001b[0;31m                 \u001b[0;32mraise\u001b[0m \u001b[0mKeyError\u001b[0m\u001b[0;34m(\u001b[0m\u001b[0mkey\u001b[0m\u001b[0;34m)\u001b[0m \u001b[0;32mfrom\u001b[0m \u001b[0merr\u001b[0m\u001b[0;34m\u001b[0m\u001b[0;34m\u001b[0m\u001b[0m\n\u001b[0m\u001b[1;32m   3083\u001b[0m \u001b[0;34m\u001b[0m\u001b[0m\n\u001b[1;32m   3084\u001b[0m         \u001b[0;32mif\u001b[0m \u001b[0mtolerance\u001b[0m \u001b[0;32mis\u001b[0m \u001b[0;32mnot\u001b[0m \u001b[0;32mNone\u001b[0m\u001b[0;34m:\u001b[0m\u001b[0;34m\u001b[0m\u001b[0;34m\u001b[0m\u001b[0m\n",
      "\u001b[0;31mKeyError\u001b[0m: 0"
     ]
    }
   ],
   "source": [
    "# Access by numeric index\n",
    "unemployment_df[0]"
   ]
  },
  {
   "cell_type": "code",
   "execution_count": 100,
   "metadata": {},
   "outputs": [
    {
     "output_type": "execute_result",
     "data": {
      "text/plain": [
       "pandas.core.series.Series"
      ]
     },
     "metadata": {},
     "execution_count": 100
    }
   ],
   "source": [
    "# Check the type\n",
    "# https://pandas.pydata.org/pandas-docs/stable/reference/api/pandas.Series.html\n",
    "type(countries)"
   ]
  },
  {
   "cell_type": "code",
   "execution_count": 101,
   "metadata": {},
   "outputs": [
    {
     "output_type": "error",
     "ename": "AttributeError",
     "evalue": "'Series' object has no attribute 'info'",
     "traceback": [
      "\u001b[0;31m---------------------------------------------------------------------------\u001b[0m",
      "\u001b[0;31mAttributeError\u001b[0m                            Traceback (most recent call last)",
      "\u001b[0;32m<ipython-input-101-014f3ce25eb4>\u001b[0m in \u001b[0;36m<module>\u001b[0;34m\u001b[0m\n\u001b[1;32m      1\u001b[0m \u001b[0;31m# Series objects do not have the same methods as dataframes\u001b[0m\u001b[0;34m\u001b[0m\u001b[0;34m\u001b[0m\u001b[0;34m\u001b[0m\u001b[0m\n\u001b[0;32m----> 2\u001b[0;31m \u001b[0mcountries\u001b[0m\u001b[0;34m.\u001b[0m\u001b[0minfo\u001b[0m\u001b[0;34m(\u001b[0m\u001b[0;34m)\u001b[0m\u001b[0;34m\u001b[0m\u001b[0;34m\u001b[0m\u001b[0m\n\u001b[0m\u001b[1;32m      3\u001b[0m \u001b[0mcountries\u001b[0m\u001b[0;34m.\u001b[0m\u001b[0mdescribe\u001b[0m\u001b[0;34m(\u001b[0m\u001b[0;34m)\u001b[0m\u001b[0;34m\u001b[0m\u001b[0;34m\u001b[0m\u001b[0m\n",
      "\u001b[0;32m~/Library/Python/3.8/lib/python/site-packages/pandas/core/generic.py\u001b[0m in \u001b[0;36m__getattr__\u001b[0;34m(self, name)\u001b[0m\n\u001b[1;32m   5458\u001b[0m             \u001b[0;32mif\u001b[0m \u001b[0mself\u001b[0m\u001b[0;34m.\u001b[0m\u001b[0m_info_axis\u001b[0m\u001b[0;34m.\u001b[0m\u001b[0m_can_hold_identifiers_and_holds_name\u001b[0m\u001b[0;34m(\u001b[0m\u001b[0mname\u001b[0m\u001b[0;34m)\u001b[0m\u001b[0;34m:\u001b[0m\u001b[0;34m\u001b[0m\u001b[0;34m\u001b[0m\u001b[0m\n\u001b[1;32m   5459\u001b[0m                 \u001b[0;32mreturn\u001b[0m \u001b[0mself\u001b[0m\u001b[0;34m[\u001b[0m\u001b[0mname\u001b[0m\u001b[0;34m]\u001b[0m\u001b[0;34m\u001b[0m\u001b[0;34m\u001b[0m\u001b[0m\n\u001b[0;32m-> 5460\u001b[0;31m             \u001b[0;32mreturn\u001b[0m \u001b[0mobject\u001b[0m\u001b[0;34m.\u001b[0m\u001b[0m__getattribute__\u001b[0m\u001b[0;34m(\u001b[0m\u001b[0mself\u001b[0m\u001b[0;34m,\u001b[0m \u001b[0mname\u001b[0m\u001b[0;34m)\u001b[0m\u001b[0;34m\u001b[0m\u001b[0;34m\u001b[0m\u001b[0m\n\u001b[0m\u001b[1;32m   5461\u001b[0m \u001b[0;34m\u001b[0m\u001b[0m\n\u001b[1;32m   5462\u001b[0m     \u001b[0;32mdef\u001b[0m \u001b[0m__setattr__\u001b[0m\u001b[0;34m(\u001b[0m\u001b[0mself\u001b[0m\u001b[0;34m,\u001b[0m \u001b[0mname\u001b[0m\u001b[0;34m:\u001b[0m \u001b[0mstr\u001b[0m\u001b[0;34m,\u001b[0m \u001b[0mvalue\u001b[0m\u001b[0;34m)\u001b[0m \u001b[0;34m->\u001b[0m \u001b[0;32mNone\u001b[0m\u001b[0;34m:\u001b[0m\u001b[0;34m\u001b[0m\u001b[0;34m\u001b[0m\u001b[0m\n",
      "\u001b[0;31mAttributeError\u001b[0m: 'Series' object has no attribute 'info'"
     ]
    }
   ],
   "source": [
    "# Series objects do not have the same methods as dataframes\n",
    "countries.info()\n",
    "countries.describe()"
   ]
  },
  {
   "source": [
    "## 1.2 Vectorized Operations\n",
    "In Pandas, operations work on each value in most data structures, such as dataframes and series."
   ],
   "cell_type": "markdown",
   "metadata": {}
  },
  {
   "cell_type": "code",
   "execution_count": 102,
   "metadata": {},
   "outputs": [
    {
     "output_type": "execute_result",
     "data": {
      "text/plain": [
       "0            Austria is in Europe.\n",
       "1            Belgium is in Europe.\n",
       "2           Bulgaria is in Europe.\n",
       "3        Switzerland is in Europe.\n",
       "4             Cyprus is in Europe.\n",
       "5            Czechia is in Europe.\n",
       "6            Germany is in Europe.\n",
       "7            Denmark is in Europe.\n",
       "8            Estonia is in Europe.\n",
       "9             Greece is in Europe.\n",
       "10             Spain is in Europe.\n",
       "11           Finland is in Europe.\n",
       "12            France is in Europe.\n",
       "13           Croatia is in Europe.\n",
       "14           Hungary is in Europe.\n",
       "15           Ireland is in Europe.\n",
       "16           Iceland is in Europe.\n",
       "17             Italy is in Europe.\n",
       "18         Lithuania is in Europe.\n",
       "19        Luxembourg is in Europe.\n",
       "20            Latvia is in Europe.\n",
       "21             Malta is in Europe.\n",
       "22       Netherlands is in Europe.\n",
       "23            Norway is in Europe.\n",
       "24            Poland is in Europe.\n",
       "25          Portugal is in Europe.\n",
       "26           Romania is in Europe.\n",
       "27            Sweden is in Europe.\n",
       "28          Slovenia is in Europe.\n",
       "29          Slovakia is in Europe.\n",
       "30            Turkey is in Europe.\n",
       "31    United Kingdom is in Europe.\n",
       "Name: country, dtype: object"
      ]
     },
     "metadata": {},
     "execution_count": 102
    }
   ],
   "source": [
    "# Add a string to the countries series\n",
    "countries + \" is in Europe.\""
   ]
  },
  {
   "cell_type": "code",
   "execution_count": 103,
   "metadata": {},
   "outputs": [
    {
     "output_type": "error",
     "ename": "TypeError",
     "evalue": "can only concatenate str (not \"int\") to str",
     "traceback": [
      "\u001b[0;31m---------------------------------------------------------------------------\u001b[0m",
      "\u001b[0;31mTypeError\u001b[0m                                 Traceback (most recent call last)",
      "\u001b[0;32m~/Library/Python/3.8/lib/python/site-packages/pandas/core/ops/array_ops.py\u001b[0m in \u001b[0;36m_na_arithmetic_op\u001b[0;34m(left, right, op, is_cmp)\u001b[0m\n\u001b[1;32m    141\u001b[0m     \u001b[0;32mtry\u001b[0m\u001b[0;34m:\u001b[0m\u001b[0;34m\u001b[0m\u001b[0;34m\u001b[0m\u001b[0m\n\u001b[0;32m--> 142\u001b[0;31m         \u001b[0mresult\u001b[0m \u001b[0;34m=\u001b[0m \u001b[0mexpressions\u001b[0m\u001b[0;34m.\u001b[0m\u001b[0mevaluate\u001b[0m\u001b[0;34m(\u001b[0m\u001b[0mop\u001b[0m\u001b[0;34m,\u001b[0m \u001b[0mleft\u001b[0m\u001b[0;34m,\u001b[0m \u001b[0mright\u001b[0m\u001b[0;34m)\u001b[0m\u001b[0;34m\u001b[0m\u001b[0;34m\u001b[0m\u001b[0m\n\u001b[0m\u001b[1;32m    143\u001b[0m     \u001b[0;32mexcept\u001b[0m \u001b[0mTypeError\u001b[0m\u001b[0;34m:\u001b[0m\u001b[0;34m\u001b[0m\u001b[0;34m\u001b[0m\u001b[0m\n",
      "\u001b[0;32m~/Library/Python/3.8/lib/python/site-packages/pandas/core/computation/expressions.py\u001b[0m in \u001b[0;36mevaluate\u001b[0;34m(op, a, b, use_numexpr)\u001b[0m\n\u001b[1;32m    234\u001b[0m             \u001b[0;31m# error: \"None\" not callable\u001b[0m\u001b[0;34m\u001b[0m\u001b[0;34m\u001b[0m\u001b[0;34m\u001b[0m\u001b[0m\n\u001b[0;32m--> 235\u001b[0;31m             \u001b[0;32mreturn\u001b[0m \u001b[0m_evaluate\u001b[0m\u001b[0;34m(\u001b[0m\u001b[0mop\u001b[0m\u001b[0;34m,\u001b[0m \u001b[0mop_str\u001b[0m\u001b[0;34m,\u001b[0m \u001b[0ma\u001b[0m\u001b[0;34m,\u001b[0m \u001b[0mb\u001b[0m\u001b[0;34m)\u001b[0m  \u001b[0;31m# type: ignore[misc]\u001b[0m\u001b[0;34m\u001b[0m\u001b[0;34m\u001b[0m\u001b[0m\n\u001b[0m\u001b[1;32m    236\u001b[0m     \u001b[0;32mreturn\u001b[0m \u001b[0m_evaluate_standard\u001b[0m\u001b[0;34m(\u001b[0m\u001b[0mop\u001b[0m\u001b[0;34m,\u001b[0m \u001b[0mop_str\u001b[0m\u001b[0;34m,\u001b[0m \u001b[0ma\u001b[0m\u001b[0;34m,\u001b[0m \u001b[0mb\u001b[0m\u001b[0;34m)\u001b[0m\u001b[0;34m\u001b[0m\u001b[0;34m\u001b[0m\u001b[0m\n",
      "\u001b[0;32m~/Library/Python/3.8/lib/python/site-packages/pandas/core/computation/expressions.py\u001b[0m in \u001b[0;36m_evaluate_standard\u001b[0;34m(op, op_str, a, b)\u001b[0m\n\u001b[1;32m     68\u001b[0m     \u001b[0;32mwith\u001b[0m \u001b[0mnp\u001b[0m\u001b[0;34m.\u001b[0m\u001b[0merrstate\u001b[0m\u001b[0;34m(\u001b[0m\u001b[0mall\u001b[0m\u001b[0;34m=\u001b[0m\u001b[0;34m\"ignore\"\u001b[0m\u001b[0;34m)\u001b[0m\u001b[0;34m:\u001b[0m\u001b[0;34m\u001b[0m\u001b[0;34m\u001b[0m\u001b[0m\n\u001b[0;32m---> 69\u001b[0;31m         \u001b[0;32mreturn\u001b[0m \u001b[0mop\u001b[0m\u001b[0;34m(\u001b[0m\u001b[0ma\u001b[0m\u001b[0;34m,\u001b[0m \u001b[0mb\u001b[0m\u001b[0;34m)\u001b[0m\u001b[0;34m\u001b[0m\u001b[0;34m\u001b[0m\u001b[0m\n\u001b[0m\u001b[1;32m     70\u001b[0m \u001b[0;34m\u001b[0m\u001b[0m\n",
      "\u001b[0;31mTypeError\u001b[0m: can only concatenate str (not \"int\") to str",
      "\nDuring handling of the above exception, another exception occurred:\n",
      "\u001b[0;31mTypeError\u001b[0m                                 Traceback (most recent call last)",
      "\u001b[0;32m<ipython-input-103-84e40da47f8f>\u001b[0m in \u001b[0;36m<module>\u001b[0;34m\u001b[0m\n\u001b[1;32m      1\u001b[0m \u001b[0;31m# Add a number to the countries series\u001b[0m\u001b[0;34m\u001b[0m\u001b[0;34m\u001b[0m\u001b[0;34m\u001b[0m\u001b[0m\n\u001b[0;32m----> 2\u001b[0;31m \u001b[0mcountries\u001b[0m \u001b[0;34m+\u001b[0m \u001b[0;36m12\u001b[0m\u001b[0;34m\u001b[0m\u001b[0;34m\u001b[0m\u001b[0m\n\u001b[0m",
      "\u001b[0;32m~/Library/Python/3.8/lib/python/site-packages/pandas/core/ops/common.py\u001b[0m in \u001b[0;36mnew_method\u001b[0;34m(self, other)\u001b[0m\n\u001b[1;32m     63\u001b[0m         \u001b[0mother\u001b[0m \u001b[0;34m=\u001b[0m \u001b[0mitem_from_zerodim\u001b[0m\u001b[0;34m(\u001b[0m\u001b[0mother\u001b[0m\u001b[0;34m)\u001b[0m\u001b[0;34m\u001b[0m\u001b[0;34m\u001b[0m\u001b[0m\n\u001b[1;32m     64\u001b[0m \u001b[0;34m\u001b[0m\u001b[0m\n\u001b[0;32m---> 65\u001b[0;31m         \u001b[0;32mreturn\u001b[0m \u001b[0mmethod\u001b[0m\u001b[0;34m(\u001b[0m\u001b[0mself\u001b[0m\u001b[0;34m,\u001b[0m \u001b[0mother\u001b[0m\u001b[0;34m)\u001b[0m\u001b[0;34m\u001b[0m\u001b[0;34m\u001b[0m\u001b[0m\n\u001b[0m\u001b[1;32m     66\u001b[0m \u001b[0;34m\u001b[0m\u001b[0m\n\u001b[1;32m     67\u001b[0m     \u001b[0;32mreturn\u001b[0m \u001b[0mnew_method\u001b[0m\u001b[0;34m\u001b[0m\u001b[0;34m\u001b[0m\u001b[0m\n",
      "\u001b[0;32m~/Library/Python/3.8/lib/python/site-packages/pandas/core/arraylike.py\u001b[0m in \u001b[0;36m__add__\u001b[0;34m(self, other)\u001b[0m\n\u001b[1;32m     87\u001b[0m     \u001b[0;34m@\u001b[0m\u001b[0munpack_zerodim_and_defer\u001b[0m\u001b[0;34m(\u001b[0m\u001b[0;34m\"__add__\"\u001b[0m\u001b[0;34m)\u001b[0m\u001b[0;34m\u001b[0m\u001b[0;34m\u001b[0m\u001b[0m\n\u001b[1;32m     88\u001b[0m     \u001b[0;32mdef\u001b[0m \u001b[0m__add__\u001b[0m\u001b[0;34m(\u001b[0m\u001b[0mself\u001b[0m\u001b[0;34m,\u001b[0m \u001b[0mother\u001b[0m\u001b[0;34m)\u001b[0m\u001b[0;34m:\u001b[0m\u001b[0;34m\u001b[0m\u001b[0;34m\u001b[0m\u001b[0m\n\u001b[0;32m---> 89\u001b[0;31m         \u001b[0;32mreturn\u001b[0m \u001b[0mself\u001b[0m\u001b[0;34m.\u001b[0m\u001b[0m_arith_method\u001b[0m\u001b[0;34m(\u001b[0m\u001b[0mother\u001b[0m\u001b[0;34m,\u001b[0m \u001b[0moperator\u001b[0m\u001b[0;34m.\u001b[0m\u001b[0madd\u001b[0m\u001b[0;34m)\u001b[0m\u001b[0;34m\u001b[0m\u001b[0;34m\u001b[0m\u001b[0m\n\u001b[0m\u001b[1;32m     90\u001b[0m \u001b[0;34m\u001b[0m\u001b[0m\n\u001b[1;32m     91\u001b[0m     \u001b[0;34m@\u001b[0m\u001b[0munpack_zerodim_and_defer\u001b[0m\u001b[0;34m(\u001b[0m\u001b[0;34m\"__radd__\"\u001b[0m\u001b[0;34m)\u001b[0m\u001b[0;34m\u001b[0m\u001b[0;34m\u001b[0m\u001b[0m\n",
      "\u001b[0;32m~/Library/Python/3.8/lib/python/site-packages/pandas/core/series.py\u001b[0m in \u001b[0;36m_arith_method\u001b[0;34m(self, other, op)\u001b[0m\n\u001b[1;32m   4957\u001b[0m         \u001b[0mlvalues\u001b[0m \u001b[0;34m=\u001b[0m \u001b[0mextract_array\u001b[0m\u001b[0;34m(\u001b[0m\u001b[0mself\u001b[0m\u001b[0;34m,\u001b[0m \u001b[0mextract_numpy\u001b[0m\u001b[0;34m=\u001b[0m\u001b[0;32mTrue\u001b[0m\u001b[0;34m)\u001b[0m\u001b[0;34m\u001b[0m\u001b[0;34m\u001b[0m\u001b[0m\n\u001b[1;32m   4958\u001b[0m         \u001b[0mrvalues\u001b[0m \u001b[0;34m=\u001b[0m \u001b[0mextract_array\u001b[0m\u001b[0;34m(\u001b[0m\u001b[0mother\u001b[0m\u001b[0;34m,\u001b[0m \u001b[0mextract_numpy\u001b[0m\u001b[0;34m=\u001b[0m\u001b[0;32mTrue\u001b[0m\u001b[0;34m)\u001b[0m\u001b[0;34m\u001b[0m\u001b[0;34m\u001b[0m\u001b[0m\n\u001b[0;32m-> 4959\u001b[0;31m         \u001b[0mresult\u001b[0m \u001b[0;34m=\u001b[0m \u001b[0mops\u001b[0m\u001b[0;34m.\u001b[0m\u001b[0marithmetic_op\u001b[0m\u001b[0;34m(\u001b[0m\u001b[0mlvalues\u001b[0m\u001b[0;34m,\u001b[0m \u001b[0mrvalues\u001b[0m\u001b[0;34m,\u001b[0m \u001b[0mop\u001b[0m\u001b[0;34m)\u001b[0m\u001b[0;34m\u001b[0m\u001b[0;34m\u001b[0m\u001b[0m\n\u001b[0m\u001b[1;32m   4960\u001b[0m \u001b[0;34m\u001b[0m\u001b[0m\n\u001b[1;32m   4961\u001b[0m         \u001b[0;32mreturn\u001b[0m \u001b[0mself\u001b[0m\u001b[0;34m.\u001b[0m\u001b[0m_construct_result\u001b[0m\u001b[0;34m(\u001b[0m\u001b[0mresult\u001b[0m\u001b[0;34m,\u001b[0m \u001b[0mname\u001b[0m\u001b[0;34m=\u001b[0m\u001b[0mres_name\u001b[0m\u001b[0;34m)\u001b[0m\u001b[0;34m\u001b[0m\u001b[0;34m\u001b[0m\u001b[0m\n",
      "\u001b[0;32m~/Library/Python/3.8/lib/python/site-packages/pandas/core/ops/array_ops.py\u001b[0m in \u001b[0;36marithmetic_op\u001b[0;34m(left, right, op)\u001b[0m\n\u001b[1;32m    187\u001b[0m     \u001b[0;32melse\u001b[0m\u001b[0;34m:\u001b[0m\u001b[0;34m\u001b[0m\u001b[0;34m\u001b[0m\u001b[0m\n\u001b[1;32m    188\u001b[0m         \u001b[0;32mwith\u001b[0m \u001b[0mnp\u001b[0m\u001b[0;34m.\u001b[0m\u001b[0merrstate\u001b[0m\u001b[0;34m(\u001b[0m\u001b[0mall\u001b[0m\u001b[0;34m=\u001b[0m\u001b[0;34m\"ignore\"\u001b[0m\u001b[0;34m)\u001b[0m\u001b[0;34m:\u001b[0m\u001b[0;34m\u001b[0m\u001b[0;34m\u001b[0m\u001b[0m\n\u001b[0;32m--> 189\u001b[0;31m             \u001b[0mres_values\u001b[0m \u001b[0;34m=\u001b[0m \u001b[0m_na_arithmetic_op\u001b[0m\u001b[0;34m(\u001b[0m\u001b[0mlvalues\u001b[0m\u001b[0;34m,\u001b[0m \u001b[0mrvalues\u001b[0m\u001b[0;34m,\u001b[0m \u001b[0mop\u001b[0m\u001b[0;34m)\u001b[0m\u001b[0;34m\u001b[0m\u001b[0;34m\u001b[0m\u001b[0m\n\u001b[0m\u001b[1;32m    190\u001b[0m \u001b[0;34m\u001b[0m\u001b[0m\n\u001b[1;32m    191\u001b[0m     \u001b[0;32mreturn\u001b[0m \u001b[0mres_values\u001b[0m\u001b[0;34m\u001b[0m\u001b[0;34m\u001b[0m\u001b[0m\n",
      "\u001b[0;32m~/Library/Python/3.8/lib/python/site-packages/pandas/core/ops/array_ops.py\u001b[0m in \u001b[0;36m_na_arithmetic_op\u001b[0;34m(left, right, op, is_cmp)\u001b[0m\n\u001b[1;32m    147\u001b[0m             \u001b[0;31m#  will handle complex numbers incorrectly, see GH#32047\u001b[0m\u001b[0;34m\u001b[0m\u001b[0;34m\u001b[0m\u001b[0;34m\u001b[0m\u001b[0m\n\u001b[1;32m    148\u001b[0m             \u001b[0;32mraise\u001b[0m\u001b[0;34m\u001b[0m\u001b[0;34m\u001b[0m\u001b[0m\n\u001b[0;32m--> 149\u001b[0;31m         \u001b[0mresult\u001b[0m \u001b[0;34m=\u001b[0m \u001b[0m_masked_arith_op\u001b[0m\u001b[0;34m(\u001b[0m\u001b[0mleft\u001b[0m\u001b[0;34m,\u001b[0m \u001b[0mright\u001b[0m\u001b[0;34m,\u001b[0m \u001b[0mop\u001b[0m\u001b[0;34m)\u001b[0m\u001b[0;34m\u001b[0m\u001b[0;34m\u001b[0m\u001b[0m\n\u001b[0m\u001b[1;32m    150\u001b[0m \u001b[0;34m\u001b[0m\u001b[0m\n\u001b[1;32m    151\u001b[0m     \u001b[0;32mif\u001b[0m \u001b[0mis_cmp\u001b[0m \u001b[0;32mand\u001b[0m \u001b[0;34m(\u001b[0m\u001b[0mis_scalar\u001b[0m\u001b[0;34m(\u001b[0m\u001b[0mresult\u001b[0m\u001b[0;34m)\u001b[0m \u001b[0;32mor\u001b[0m \u001b[0mresult\u001b[0m \u001b[0;32mis\u001b[0m \u001b[0mNotImplemented\u001b[0m\u001b[0;34m)\u001b[0m\u001b[0;34m:\u001b[0m\u001b[0;34m\u001b[0m\u001b[0;34m\u001b[0m\u001b[0m\n",
      "\u001b[0;32m~/Library/Python/3.8/lib/python/site-packages/pandas/core/ops/array_ops.py\u001b[0m in \u001b[0;36m_masked_arith_op\u001b[0;34m(x, y, op)\u001b[0m\n\u001b[1;32m    109\u001b[0m         \u001b[0;32mif\u001b[0m \u001b[0mmask\u001b[0m\u001b[0;34m.\u001b[0m\u001b[0many\u001b[0m\u001b[0;34m(\u001b[0m\u001b[0;34m)\u001b[0m\u001b[0;34m:\u001b[0m\u001b[0;34m\u001b[0m\u001b[0;34m\u001b[0m\u001b[0m\n\u001b[1;32m    110\u001b[0m             \u001b[0;32mwith\u001b[0m \u001b[0mnp\u001b[0m\u001b[0;34m.\u001b[0m\u001b[0merrstate\u001b[0m\u001b[0;34m(\u001b[0m\u001b[0mall\u001b[0m\u001b[0;34m=\u001b[0m\u001b[0;34m\"ignore\"\u001b[0m\u001b[0;34m)\u001b[0m\u001b[0;34m:\u001b[0m\u001b[0;34m\u001b[0m\u001b[0;34m\u001b[0m\u001b[0m\n\u001b[0;32m--> 111\u001b[0;31m                 \u001b[0mresult\u001b[0m\u001b[0;34m[\u001b[0m\u001b[0mmask\u001b[0m\u001b[0;34m]\u001b[0m \u001b[0;34m=\u001b[0m \u001b[0mop\u001b[0m\u001b[0;34m(\u001b[0m\u001b[0mxrav\u001b[0m\u001b[0;34m[\u001b[0m\u001b[0mmask\u001b[0m\u001b[0;34m]\u001b[0m\u001b[0;34m,\u001b[0m \u001b[0my\u001b[0m\u001b[0;34m)\u001b[0m\u001b[0;34m\u001b[0m\u001b[0;34m\u001b[0m\u001b[0m\n\u001b[0m\u001b[1;32m    112\u001b[0m \u001b[0;34m\u001b[0m\u001b[0m\n\u001b[1;32m    113\u001b[0m     \u001b[0mresult\u001b[0m\u001b[0;34m,\u001b[0m \u001b[0m_\u001b[0m \u001b[0;34m=\u001b[0m \u001b[0mmaybe_upcast_putmask\u001b[0m\u001b[0;34m(\u001b[0m\u001b[0mresult\u001b[0m\u001b[0;34m,\u001b[0m \u001b[0;34m~\u001b[0m\u001b[0mmask\u001b[0m\u001b[0;34m,\u001b[0m \u001b[0mnp\u001b[0m\u001b[0;34m.\u001b[0m\u001b[0mnan\u001b[0m\u001b[0;34m)\u001b[0m\u001b[0;34m\u001b[0m\u001b[0;34m\u001b[0m\u001b[0m\n",
      "\u001b[0;31mTypeError\u001b[0m: can only concatenate str (not \"int\") to str"
     ]
    }
   ],
   "source": [
    "# Add a number to the countries series\n",
    "countries + 12"
   ]
  },
  {
   "cell_type": "code",
   "execution_count": 104,
   "metadata": {},
   "outputs": [
    {
     "output_type": "stream",
     "name": "stdout",
     "text": [
      "0      6.0\n1      7.8\n2      7.6\n3      5.0\n4     13.0\n5      4.0\n6      4.1\n7      6.2\n8      6.8\n9     23.6\n10    19.6\n11     8.8\n12    10.1\n13    13.1\n14     5.1\n15     8.4\n16     3.0\n17    11.7\n18     7.9\n19     6.3\n20     9.6\n21     4.7\n22     6.0\n23     4.7\n24     6.2\n25    11.2\n26     5.9\n27     7.0\n28     8.0\n29     9.7\n30    10.9\n31     4.8\nName: unemp_rate, dtype: float64\n"
     ]
    }
   ],
   "source": [
    "# Select the unemployment rates as a series\n",
    "unemployment_rates = unemployment_df['unemp_rate']\n",
    "print(unemployment_rates)"
   ]
  },
  {
   "cell_type": "code",
   "execution_count": 105,
   "metadata": {},
   "outputs": [],
   "source": [
    "# Sort the dataframe by rate\n",
    "unemployment_sorted_asc = unemployment_df.sort_values('unemp_rate', ascending=True)"
   ]
  },
  {
   "cell_type": "code",
   "execution_count": 106,
   "metadata": {},
   "outputs": [
    {
     "output_type": "execute_result",
     "data": {
      "text/plain": [
       "    country  unemp_rate\n",
       "16  Iceland         3.0\n",
       "5   Czechia         4.0\n",
       "6   Germany         4.1\n",
       "23   Norway         4.7\n",
       "21    Malta         4.7"
      ],
      "text/html": "<div>\n<style scoped>\n    .dataframe tbody tr th:only-of-type {\n        vertical-align: middle;\n    }\n\n    .dataframe tbody tr th {\n        vertical-align: top;\n    }\n\n    .dataframe thead th {\n        text-align: right;\n    }\n</style>\n<table border=\"1\" class=\"dataframe\">\n  <thead>\n    <tr style=\"text-align: right;\">\n      <th></th>\n      <th>country</th>\n      <th>unemp_rate</th>\n    </tr>\n  </thead>\n  <tbody>\n    <tr>\n      <th>16</th>\n      <td>Iceland</td>\n      <td>3.0</td>\n    </tr>\n    <tr>\n      <th>5</th>\n      <td>Czechia</td>\n      <td>4.0</td>\n    </tr>\n    <tr>\n      <th>6</th>\n      <td>Germany</td>\n      <td>4.1</td>\n    </tr>\n    <tr>\n      <th>23</th>\n      <td>Norway</td>\n      <td>4.7</td>\n    </tr>\n    <tr>\n      <th>21</th>\n      <td>Malta</td>\n      <td>4.7</td>\n    </tr>\n  </tbody>\n</table>\n</div>"
     },
     "metadata": {},
     "execution_count": 106
    }
   ],
   "source": [
    "# Use .head() to get the top five values\n",
    "unemployment_sorted_asc.head()"
   ]
  },
  {
   "cell_type": "code",
   "execution_count": 107,
   "metadata": {},
   "outputs": [
    {
     "output_type": "execute_result",
     "data": {
      "text/plain": [
       "    country  unemp_rate\n",
       "17    Italy        11.7\n",
       "4    Cyprus        13.0\n",
       "13  Croatia        13.1\n",
       "10    Spain        19.6\n",
       "9    Greece        23.6"
      ],
      "text/html": "<div>\n<style scoped>\n    .dataframe tbody tr th:only-of-type {\n        vertical-align: middle;\n    }\n\n    .dataframe tbody tr th {\n        vertical-align: top;\n    }\n\n    .dataframe thead th {\n        text-align: right;\n    }\n</style>\n<table border=\"1\" class=\"dataframe\">\n  <thead>\n    <tr style=\"text-align: right;\">\n      <th></th>\n      <th>country</th>\n      <th>unemp_rate</th>\n    </tr>\n  </thead>\n  <tbody>\n    <tr>\n      <th>17</th>\n      <td>Italy</td>\n      <td>11.7</td>\n    </tr>\n    <tr>\n      <th>4</th>\n      <td>Cyprus</td>\n      <td>13.0</td>\n    </tr>\n    <tr>\n      <th>13</th>\n      <td>Croatia</td>\n      <td>13.1</td>\n    </tr>\n    <tr>\n      <th>10</th>\n      <td>Spain</td>\n      <td>19.6</td>\n    </tr>\n    <tr>\n      <th>9</th>\n      <td>Greece</td>\n      <td>23.6</td>\n    </tr>\n  </tbody>\n</table>\n</div>"
     },
     "metadata": {},
     "execution_count": 107
    }
   ],
   "source": [
    "# Use .tail() to get the  five values\n",
    "unemployment_sorted_asc.tail()"
   ]
  },
  {
   "source": [
    "### Exercise - What is the average unemployment of the seven countries with the highest unemployment in europe?"
   ],
   "cell_type": "markdown",
   "metadata": {}
  },
  {
   "cell_type": "code",
   "execution_count": 108,
   "metadata": {},
   "outputs": [],
   "source": [
    "# Sort the values of the unemployment_df - descending or ascending?\n",
    "unemployment_sorted_desc = unemployment_df.sort_values('unemp_rate', ascending=False)\n",
    "# Get the first seven rows in the returned series\n",
    "highest_unemployment = unemployment_sorted_desc.head(7)\n",
    "# Get the average of those rows\n",
    "highest_unemployment_avg = highest_unemployment['unemp_rate'].mean()"
   ]
  },
  {
   "source": [
    "### Extra - explore these methods:\n",
    ".min(), .max(), .sum(), .unique(), .nunique(), .count(), .duplicated()"
   ],
   "cell_type": "markdown",
   "metadata": {}
  },
  {
   "cell_type": "code",
   "execution_count": 109,
   "metadata": {},
   "outputs": [
    {
     "output_type": "execute_result",
     "data": {
      "text/plain": [
       "        country  unemp_rate\n",
       "0       Austria         6.0\n",
       "7       Denmark         6.2\n",
       "21        Malta         4.7\n",
       "22  Netherlands         6.0\n",
       "23       Norway         4.7\n",
       "24       Poland         6.2"
      ],
      "text/html": "<div>\n<style scoped>\n    .dataframe tbody tr th:only-of-type {\n        vertical-align: middle;\n    }\n\n    .dataframe tbody tr th {\n        vertical-align: top;\n    }\n\n    .dataframe thead th {\n        text-align: right;\n    }\n</style>\n<table border=\"1\" class=\"dataframe\">\n  <thead>\n    <tr style=\"text-align: right;\">\n      <th></th>\n      <th>country</th>\n      <th>unemp_rate</th>\n    </tr>\n  </thead>\n  <tbody>\n    <tr>\n      <th>0</th>\n      <td>Austria</td>\n      <td>6.0</td>\n    </tr>\n    <tr>\n      <th>7</th>\n      <td>Denmark</td>\n      <td>6.2</td>\n    </tr>\n    <tr>\n      <th>21</th>\n      <td>Malta</td>\n      <td>4.7</td>\n    </tr>\n    <tr>\n      <th>22</th>\n      <td>Netherlands</td>\n      <td>6.0</td>\n    </tr>\n    <tr>\n      <th>23</th>\n      <td>Norway</td>\n      <td>4.7</td>\n    </tr>\n    <tr>\n      <th>24</th>\n      <td>Poland</td>\n      <td>6.2</td>\n    </tr>\n  </tbody>\n</table>\n</div>"
     },
     "metadata": {},
     "execution_count": 109
    }
   ],
   "source": [
    "unemployment_rates.min()\n",
    "unemployment_rates.max()\n",
    "unemployment_rates.sum()\n",
    "unemployment_rates.unique()\n",
    "unemployment_rates.nunique()\n",
    "unemployment_rates.count()\n",
    "dups = unemployment_rates.duplicated()\n",
    "dups_no_keep = unemployment_rates.duplicated(keep=False)\n",
    "unemployment_df[dups_no_keep]"
   ]
  },
  {
   "source": [
    "## 1.3 Merging DataFrames\n",
    "Data can come from a variety of different sources and it can be helpful to put them all in one place."
   ],
   "cell_type": "markdown",
   "metadata": {}
  },
  {
   "cell_type": "code",
   "execution_count": 110,
   "metadata": {},
   "outputs": [],
   "source": [
    "gdp_filepath = './data/gdp_2016.csv'\n",
    "# Read in data using this filepath\n",
    "gdp_df = pd.read_csv(gdp_filepath)"
   ]
  },
  {
   "cell_type": "code",
   "execution_count": 111,
   "metadata": {},
   "outputs": [
    {
     "output_type": "stream",
     "name": "stdout",
     "text": [
      "<class 'pandas.core.frame.DataFrame'>\nRangeIndex: 32 entries, 0 to 31\nData columns (total 2 columns):\n #   Column   Non-Null Count  Dtype  \n---  ------   --------------  -----  \n 0   country  32 non-null     object \n 1   gdp      32 non-null     float64\ndtypes: float64(1), object(1)\nmemory usage: 640.0+ bytes\n"
     ]
    },
    {
     "output_type": "execute_result",
     "data": {
      "text/plain": [
       "      country       gdp\n",
       "0      Cyprus   18490.2\n",
       "1      Latvia   25037.7\n",
       "2   Lithuania   38849.4\n",
       "3  Luxembourg   53303.0\n",
       "4     Hungary  113903.8"
      ],
      "text/html": "<div>\n<style scoped>\n    .dataframe tbody tr th:only-of-type {\n        vertical-align: middle;\n    }\n\n    .dataframe tbody tr th {\n        vertical-align: top;\n    }\n\n    .dataframe thead th {\n        text-align: right;\n    }\n</style>\n<table border=\"1\" class=\"dataframe\">\n  <thead>\n    <tr style=\"text-align: right;\">\n      <th></th>\n      <th>country</th>\n      <th>gdp</th>\n    </tr>\n  </thead>\n  <tbody>\n    <tr>\n      <th>0</th>\n      <td>Cyprus</td>\n      <td>18490.2</td>\n    </tr>\n    <tr>\n      <th>1</th>\n      <td>Latvia</td>\n      <td>25037.7</td>\n    </tr>\n    <tr>\n      <th>2</th>\n      <td>Lithuania</td>\n      <td>38849.4</td>\n    </tr>\n    <tr>\n      <th>3</th>\n      <td>Luxembourg</td>\n      <td>53303.0</td>\n    </tr>\n    <tr>\n      <th>4</th>\n      <td>Hungary</td>\n      <td>113903.8</td>\n    </tr>\n  </tbody>\n</table>\n</div>"
     },
     "metadata": {},
     "execution_count": 111
    }
   ],
   "source": [
    "# Inspect the GDP data\n",
    "gdp_df.info()\n",
    "gdp_df.describe()\n",
    "gdp_df.head()"
   ]
  },
  {
   "source": [
    "Let's create a new dataframe by merging two existing dataframes. This is the one we'll use for the rest of section 2."
   ],
   "cell_type": "markdown",
   "metadata": {}
  },
  {
   "cell_type": "code",
   "execution_count": 115,
   "metadata": {},
   "outputs": [
    {
     "output_type": "execute_result",
     "data": {
      "text/plain": [
       "       country  unemp_rate       gdp\n",
       "0      Austria         6.0  356237.6\n",
       "1      Belgium         7.8  424660.3\n",
       "2     Bulgaria         7.6   48128.6\n",
       "3  Switzerland         5.0  605753.7\n",
       "4       Cyprus        13.0   18490.2"
      ],
      "text/html": "<div>\n<style scoped>\n    .dataframe tbody tr th:only-of-type {\n        vertical-align: middle;\n    }\n\n    .dataframe tbody tr th {\n        vertical-align: top;\n    }\n\n    .dataframe thead th {\n        text-align: right;\n    }\n</style>\n<table border=\"1\" class=\"dataframe\">\n  <thead>\n    <tr style=\"text-align: right;\">\n      <th></th>\n      <th>country</th>\n      <th>unemp_rate</th>\n      <th>gdp</th>\n    </tr>\n  </thead>\n  <tbody>\n    <tr>\n      <th>0</th>\n      <td>Austria</td>\n      <td>6.0</td>\n      <td>356237.6</td>\n    </tr>\n    <tr>\n      <th>1</th>\n      <td>Belgium</td>\n      <td>7.8</td>\n      <td>424660.3</td>\n    </tr>\n    <tr>\n      <th>2</th>\n      <td>Bulgaria</td>\n      <td>7.6</td>\n      <td>48128.6</td>\n    </tr>\n    <tr>\n      <th>3</th>\n      <td>Switzerland</td>\n      <td>5.0</td>\n      <td>605753.7</td>\n    </tr>\n    <tr>\n      <th>4</th>\n      <td>Cyprus</td>\n      <td>13.0</td>\n      <td>18490.2</td>\n    </tr>\n  </tbody>\n</table>\n</div>"
     },
     "metadata": {},
     "execution_count": 115
    }
   ],
   "source": [
    "# Merge unemployment df with gdp df\n",
    "# https://pandas.pydata.org/pandas-docs/stable/reference/api/pandas.DataFrame.merge.html\n",
    "eur_data = pd.merge(unemployment_df, gdp_df)\n",
    "eur_data.head()"
   ]
  },
  {
   "source": [
    "What other data can we include? Are there other file types that we can work with?"
   ],
   "cell_type": "markdown",
   "metadata": {}
  },
  {
   "cell_type": "code",
   "execution_count": 114,
   "metadata": {},
   "outputs": [
    {
     "output_type": "execute_result",
     "data": {
      "text/plain": [
       "       country  avg_hrs_worked\n",
       "0      Austria            36.5\n",
       "1      Belgium            37.0\n",
       "2     Bulgaria            40.8\n",
       "3  Switzerland            34.7\n",
       "4       Cyprus            39.2"
      ],
      "text/html": "<div>\n<style scoped>\n    .dataframe tbody tr th:only-of-type {\n        vertical-align: middle;\n    }\n\n    .dataframe tbody tr th {\n        vertical-align: top;\n    }\n\n    .dataframe thead th {\n        text-align: right;\n    }\n</style>\n<table border=\"1\" class=\"dataframe\">\n  <thead>\n    <tr style=\"text-align: right;\">\n      <th></th>\n      <th>country</th>\n      <th>avg_hrs_worked</th>\n    </tr>\n  </thead>\n  <tbody>\n    <tr>\n      <th>0</th>\n      <td>Austria</td>\n      <td>36.5</td>\n    </tr>\n    <tr>\n      <th>1</th>\n      <td>Belgium</td>\n      <td>37.0</td>\n    </tr>\n    <tr>\n      <th>2</th>\n      <td>Bulgaria</td>\n      <td>40.8</td>\n    </tr>\n    <tr>\n      <th>3</th>\n      <td>Switzerland</td>\n      <td>34.7</td>\n    </tr>\n    <tr>\n      <th>4</th>\n      <td>Cyprus</td>\n      <td>39.2</td>\n    </tr>\n  </tbody>\n</table>\n</div>"
     },
     "metadata": {},
     "execution_count": 114
    }
   ],
   "source": [
    "# Read in misc data from excel\n",
    "misc_filepath = './data/misc_data.xlsx'\n",
    "misc_data = pd.read_excel(misc_filepath)\n",
    "misc_data.head()"
   ]
  },
  {
   "cell_type": "code",
   "execution_count": 116,
   "metadata": {},
   "outputs": [
    {
     "output_type": "execute_result",
     "data": {
      "text/plain": [
       "    country  median_income\n",
       "0   Belgium          21335\n",
       "1  Bulgaria           6742\n",
       "2   Czechia          12478\n",
       "3   Denmark          21355\n",
       "4   Germany          21152"
      ],
      "text/html": "<div>\n<style scoped>\n    .dataframe tbody tr th:only-of-type {\n        vertical-align: middle;\n    }\n\n    .dataframe tbody tr th {\n        vertical-align: top;\n    }\n\n    .dataframe thead th {\n        text-align: right;\n    }\n</style>\n<table border=\"1\" class=\"dataframe\">\n  <thead>\n    <tr style=\"text-align: right;\">\n      <th></th>\n      <th>country</th>\n      <th>median_income</th>\n    </tr>\n  </thead>\n  <tbody>\n    <tr>\n      <th>0</th>\n      <td>Belgium</td>\n      <td>21335</td>\n    </tr>\n    <tr>\n      <th>1</th>\n      <td>Bulgaria</td>\n      <td>6742</td>\n    </tr>\n    <tr>\n      <th>2</th>\n      <td>Czechia</td>\n      <td>12478</td>\n    </tr>\n    <tr>\n      <th>3</th>\n      <td>Denmark</td>\n      <td>21355</td>\n    </tr>\n    <tr>\n      <th>4</th>\n      <td>Germany</td>\n      <td>21152</td>\n    </tr>\n  </tbody>\n</table>\n</div>"
     },
     "metadata": {},
     "execution_count": 116
    }
   ],
   "source": [
    "# .read_excel() gets the first sheet in the excel file. Instead, get the \"Income\" sheet\n",
    "income_df = pd.read_excel('./data/misc_data.xlsx', \"Income\")\n",
    "income_df.head()"
   ]
  },
  {
   "cell_type": "code",
   "execution_count": 117,
   "metadata": {},
   "outputs": [
    {
     "output_type": "execute_result",
     "data": {
      "text/plain": [
       "                                          Unnamed: 0 Unnamed: 1  \\\n",
       "0  This is an overview of the population data for...        NaN   \n",
       "1                                                NaN        NaN   \n",
       "2                                            country  total_pop   \n",
       "3                                            Belgium   11000638   \n",
       "4                                           Bulgaria    7364570   \n",
       "\n",
       "         Unnamed: 2  \n",
       "0               NaN  \n",
       "1               NaN  \n",
       "2  prct_yng_adt_pop  \n",
       "3         18.485146  \n",
       "4         18.432577  "
      ],
      "text/html": "<div>\n<style scoped>\n    .dataframe tbody tr th:only-of-type {\n        vertical-align: middle;\n    }\n\n    .dataframe tbody tr th {\n        vertical-align: top;\n    }\n\n    .dataframe thead th {\n        text-align: right;\n    }\n</style>\n<table border=\"1\" class=\"dataframe\">\n  <thead>\n    <tr style=\"text-align: right;\">\n      <th></th>\n      <th>Unnamed: 0</th>\n      <th>Unnamed: 1</th>\n      <th>Unnamed: 2</th>\n    </tr>\n  </thead>\n  <tbody>\n    <tr>\n      <th>0</th>\n      <td>This is an overview of the population data for...</td>\n      <td>NaN</td>\n      <td>NaN</td>\n    </tr>\n    <tr>\n      <th>1</th>\n      <td>NaN</td>\n      <td>NaN</td>\n      <td>NaN</td>\n    </tr>\n    <tr>\n      <th>2</th>\n      <td>country</td>\n      <td>total_pop</td>\n      <td>prct_yng_adt_pop</td>\n    </tr>\n    <tr>\n      <th>3</th>\n      <td>Belgium</td>\n      <td>11000638</td>\n      <td>18.485146</td>\n    </tr>\n    <tr>\n      <th>4</th>\n      <td>Bulgaria</td>\n      <td>7364570</td>\n      <td>18.432577</td>\n    </tr>\n  </tbody>\n</table>\n</div>"
     },
     "metadata": {},
     "execution_count": 117
    }
   ],
   "source": [
    "pop_df = pd.read_excel('./data/misc_data.xlsx', 'Population')\n",
    "pop_df.head()"
   ]
  },
  {
   "cell_type": "code",
   "execution_count": 118,
   "metadata": {},
   "outputs": [
    {
     "output_type": "execute_result",
     "data": {
      "text/plain": [
       "    country  total_pop  prct_yng_adt_pop\n",
       "0   Belgium   11000638         18.485146\n",
       "1  Bulgaria    7364570         18.432577\n",
       "2   Estonia    1294455         19.688363\n",
       "3   Ireland    4574888         20.601335\n",
       "4    Greece   10816286         17.604416"
      ],
      "text/html": "<div>\n<style scoped>\n    .dataframe tbody tr th:only-of-type {\n        vertical-align: middle;\n    }\n\n    .dataframe tbody tr th {\n        vertical-align: top;\n    }\n\n    .dataframe thead th {\n        text-align: right;\n    }\n</style>\n<table border=\"1\" class=\"dataframe\">\n  <thead>\n    <tr style=\"text-align: right;\">\n      <th></th>\n      <th>country</th>\n      <th>total_pop</th>\n      <th>prct_yng_adt_pop</th>\n    </tr>\n  </thead>\n  <tbody>\n    <tr>\n      <th>0</th>\n      <td>Belgium</td>\n      <td>11000638</td>\n      <td>18.485146</td>\n    </tr>\n    <tr>\n      <th>1</th>\n      <td>Bulgaria</td>\n      <td>7364570</td>\n      <td>18.432577</td>\n    </tr>\n    <tr>\n      <th>2</th>\n      <td>Estonia</td>\n      <td>1294455</td>\n      <td>19.688363</td>\n    </tr>\n    <tr>\n      <th>3</th>\n      <td>Ireland</td>\n      <td>4574888</td>\n      <td>20.601335</td>\n    </tr>\n    <tr>\n      <th>4</th>\n      <td>Greece</td>\n      <td>10816286</td>\n      <td>17.604416</td>\n    </tr>\n  </tbody>\n</table>\n</div>"
     },
     "metadata": {},
     "execution_count": 118
    }
   ],
   "source": [
    "pop_df = pd.read_excel('./data/misc_data.xlsx', 'Population', skiprows=3)\n",
    "pop_df.head()"
   ]
  },
  {
   "cell_type": "code",
   "execution_count": 119,
   "metadata": {},
   "outputs": [
    {
     "output_type": "execute_result",
     "data": {
      "text/plain": [
       "['country', 'total_pop', 'prct_yng_adt_pop']"
      ]
     },
     "metadata": {},
     "execution_count": 119
    }
   ],
   "source": [
    "# Do we need all of these columns?\n",
    "pop_df_col_names = pop_df.columns\n",
    "list(pop_df_col_names)"
   ]
  },
  {
   "cell_type": "code",
   "execution_count": 120,
   "metadata": {},
   "outputs": [],
   "source": [
    "# Select total population column\n",
    "total_pop = pop_df['total_pop']"
   ]
  },
  {
   "cell_type": "code",
   "execution_count": 121,
   "metadata": {},
   "outputs": [
    {
     "output_type": "error",
     "ename": "MergeError",
     "evalue": "No common columns to perform merge on. Merge options: left_on=None, right_on=None, left_index=False, right_index=False",
     "traceback": [
      "\u001b[0;31m---------------------------------------------------------------------------\u001b[0m",
      "\u001b[0;31mMergeError\u001b[0m                                Traceback (most recent call last)",
      "\u001b[0;32m<ipython-input-121-1871d17e024e>\u001b[0m in \u001b[0;36m<module>\u001b[0;34m\u001b[0m\n\u001b[0;32m----> 1\u001b[0;31m \u001b[0meur_data\u001b[0m \u001b[0;34m=\u001b[0m \u001b[0mpd\u001b[0m\u001b[0;34m.\u001b[0m\u001b[0mmerge\u001b[0m\u001b[0;34m(\u001b[0m\u001b[0meur_data\u001b[0m\u001b[0;34m,\u001b[0m \u001b[0mtotal_pop\u001b[0m\u001b[0;34m)\u001b[0m\u001b[0;34m\u001b[0m\u001b[0;34m\u001b[0m\u001b[0m\n\u001b[0m",
      "\u001b[0;32m~/Library/Python/3.8/lib/python/site-packages/pandas/core/reshape/merge.py\u001b[0m in \u001b[0;36mmerge\u001b[0;34m(left, right, how, on, left_on, right_on, left_index, right_index, sort, suffixes, copy, indicator, validate)\u001b[0m\n\u001b[1;32m     72\u001b[0m     \u001b[0mvalidate\u001b[0m\u001b[0;34m=\u001b[0m\u001b[0;32mNone\u001b[0m\u001b[0;34m,\u001b[0m\u001b[0;34m\u001b[0m\u001b[0;34m\u001b[0m\u001b[0m\n\u001b[1;32m     73\u001b[0m ) -> \"DataFrame\":\n\u001b[0;32m---> 74\u001b[0;31m     op = _MergeOperation(\n\u001b[0m\u001b[1;32m     75\u001b[0m         \u001b[0mleft\u001b[0m\u001b[0;34m,\u001b[0m\u001b[0;34m\u001b[0m\u001b[0;34m\u001b[0m\u001b[0m\n\u001b[1;32m     76\u001b[0m         \u001b[0mright\u001b[0m\u001b[0;34m,\u001b[0m\u001b[0;34m\u001b[0m\u001b[0;34m\u001b[0m\u001b[0m\n",
      "\u001b[0;32m~/Library/Python/3.8/lib/python/site-packages/pandas/core/reshape/merge.py\u001b[0m in \u001b[0;36m__init__\u001b[0;34m(self, left, right, how, on, left_on, right_on, axis, left_index, right_index, sort, suffixes, copy, indicator, validate)\u001b[0m\n\u001b[1;32m    648\u001b[0m             \u001b[0mwarnings\u001b[0m\u001b[0;34m.\u001b[0m\u001b[0mwarn\u001b[0m\u001b[0;34m(\u001b[0m\u001b[0mmsg\u001b[0m\u001b[0;34m,\u001b[0m \u001b[0mUserWarning\u001b[0m\u001b[0;34m)\u001b[0m\u001b[0;34m\u001b[0m\u001b[0;34m\u001b[0m\u001b[0m\n\u001b[1;32m    649\u001b[0m \u001b[0;34m\u001b[0m\u001b[0m\n\u001b[0;32m--> 650\u001b[0;31m         \u001b[0mself\u001b[0m\u001b[0;34m.\u001b[0m\u001b[0m_validate_specification\u001b[0m\u001b[0;34m(\u001b[0m\u001b[0;34m)\u001b[0m\u001b[0;34m\u001b[0m\u001b[0;34m\u001b[0m\u001b[0m\n\u001b[0m\u001b[1;32m    651\u001b[0m \u001b[0;34m\u001b[0m\u001b[0m\n\u001b[1;32m    652\u001b[0m         \u001b[0mcross_col\u001b[0m \u001b[0;34m=\u001b[0m \u001b[0;32mNone\u001b[0m\u001b[0;34m\u001b[0m\u001b[0;34m\u001b[0m\u001b[0m\n",
      "\u001b[0;32m~/Library/Python/3.8/lib/python/site-packages/pandas/core/reshape/merge.py\u001b[0m in \u001b[0;36m_validate_specification\u001b[0;34m(self)\u001b[0m\n\u001b[1;32m   1281\u001b[0m                 \u001b[0mcommon_cols\u001b[0m \u001b[0;34m=\u001b[0m \u001b[0mleft_cols\u001b[0m\u001b[0;34m.\u001b[0m\u001b[0mintersection\u001b[0m\u001b[0;34m(\u001b[0m\u001b[0mright_cols\u001b[0m\u001b[0;34m)\u001b[0m\u001b[0;34m\u001b[0m\u001b[0;34m\u001b[0m\u001b[0m\n\u001b[1;32m   1282\u001b[0m                 \u001b[0;32mif\u001b[0m \u001b[0mlen\u001b[0m\u001b[0;34m(\u001b[0m\u001b[0mcommon_cols\u001b[0m\u001b[0;34m)\u001b[0m \u001b[0;34m==\u001b[0m \u001b[0;36m0\u001b[0m\u001b[0;34m:\u001b[0m\u001b[0;34m\u001b[0m\u001b[0;34m\u001b[0m\u001b[0m\n\u001b[0;32m-> 1283\u001b[0;31m                     raise MergeError(\n\u001b[0m\u001b[1;32m   1284\u001b[0m                         \u001b[0;34m\"No common columns to perform merge on. \"\u001b[0m\u001b[0;34m\u001b[0m\u001b[0;34m\u001b[0m\u001b[0m\n\u001b[1;32m   1285\u001b[0m                         \u001b[0;34mf\"Merge options: left_on={self.left_on}, \"\u001b[0m\u001b[0;34m\u001b[0m\u001b[0;34m\u001b[0m\u001b[0m\n",
      "\u001b[0;31mMergeError\u001b[0m: No common columns to perform merge on. Merge options: left_on=None, right_on=None, left_index=False, right_index=False"
     ]
    }
   ],
   "source": [
    "eur_data = pd.merge(eur_data, total_pop)"
   ]
  },
  {
   "cell_type": "code",
   "execution_count": 122,
   "metadata": {},
   "outputs": [],
   "source": [
    "# Select population with country names, so pandas can perform merge\n",
    "total_pop_with_countries = pop_df[['country', 'total_pop']]"
   ]
  },
  {
   "cell_type": "code",
   "execution_count": 123,
   "metadata": {},
   "outputs": [
    {
     "output_type": "execute_result",
     "data": {
      "text/plain": [
       "     country  unemp_rate       gdp  total_pop\n",
       "0    Austria         6.0  356237.6    8401940\n",
       "1    Belgium         7.8  424660.3   11000638\n",
       "2   Bulgaria         7.6   48128.6    7364570\n",
       "13   Croatia        13.1   46639.5    4284889\n",
       "4     Cyprus        13.0   18490.2     840407"
      ],
      "text/html": "<div>\n<style scoped>\n    .dataframe tbody tr th:only-of-type {\n        vertical-align: middle;\n    }\n\n    .dataframe tbody tr th {\n        vertical-align: top;\n    }\n\n    .dataframe thead th {\n        text-align: right;\n    }\n</style>\n<table border=\"1\" class=\"dataframe\">\n  <thead>\n    <tr style=\"text-align: right;\">\n      <th></th>\n      <th>country</th>\n      <th>unemp_rate</th>\n      <th>gdp</th>\n      <th>total_pop</th>\n    </tr>\n  </thead>\n  <tbody>\n    <tr>\n      <th>0</th>\n      <td>Austria</td>\n      <td>6.0</td>\n      <td>356237.6</td>\n      <td>8401940</td>\n    </tr>\n    <tr>\n      <th>1</th>\n      <td>Belgium</td>\n      <td>7.8</td>\n      <td>424660.3</td>\n      <td>11000638</td>\n    </tr>\n    <tr>\n      <th>2</th>\n      <td>Bulgaria</td>\n      <td>7.6</td>\n      <td>48128.6</td>\n      <td>7364570</td>\n    </tr>\n    <tr>\n      <th>13</th>\n      <td>Croatia</td>\n      <td>13.1</td>\n      <td>46639.5</td>\n      <td>4284889</td>\n    </tr>\n    <tr>\n      <th>4</th>\n      <td>Cyprus</td>\n      <td>13.0</td>\n      <td>18490.2</td>\n      <td>840407</td>\n    </tr>\n  </tbody>\n</table>\n</div>"
     },
     "metadata": {},
     "execution_count": 123
    }
   ],
   "source": [
    "# Perform merge and sort values by country name\n",
    "eur_data = pd.merge(eur_data, total_pop_with_countries)\n",
    "eur_data_sorted = eur_data.sort_values('country')\n",
    "eur_data_sorted.head()"
   ]
  },
  {
   "source": [
    "It looks like there's an issue with our indexes. What is an index, anyway?"
   ],
   "cell_type": "markdown",
   "metadata": {}
  },
  {
   "source": [
    "## 1.4 Indexes\n",
    "https://pandas.pydata.org/pandas-docs/stable/reference/api/pandas.Index.html"
   ],
   "cell_type": "markdown",
   "metadata": {}
  },
  {
   "cell_type": "code",
   "execution_count": 124,
   "metadata": {},
   "outputs": [
    {
     "output_type": "execute_result",
     "data": {
      "text/plain": [
       "pandas.core.indexes.numeric.Int64Index"
      ]
     },
     "metadata": {},
     "execution_count": 124
    }
   ],
   "source": [
    "# Our data is indexed by integer values\n",
    "eur_index = eur_data.index\n",
    "type(eur_index)"
   ]
  },
  {
   "cell_type": "code",
   "execution_count": 125,
   "metadata": {},
   "outputs": [
    {
     "output_type": "error",
     "ename": "TypeError",
     "evalue": "Index does not support mutable operations",
     "traceback": [
      "\u001b[0;31m---------------------------------------------------------------------------\u001b[0m",
      "\u001b[0;31mTypeError\u001b[0m                                 Traceback (most recent call last)",
      "\u001b[0;32m<ipython-input-125-80a77fa7e4a2>\u001b[0m in \u001b[0;36m<module>\u001b[0;34m\u001b[0m\n\u001b[1;32m      1\u001b[0m \u001b[0;31m# Indexes are immutable. And for good reason...\u001b[0m\u001b[0;34m\u001b[0m\u001b[0;34m\u001b[0m\u001b[0;34m\u001b[0m\u001b[0m\n\u001b[0;32m----> 2\u001b[0;31m \u001b[0meur_index\u001b[0m\u001b[0;34m[\u001b[0m\u001b[0;36m0\u001b[0m\u001b[0;34m]\u001b[0m \u001b[0;34m=\u001b[0m \u001b[0;36m12\u001b[0m\u001b[0;34m\u001b[0m\u001b[0;34m\u001b[0m\u001b[0m\n\u001b[0m",
      "\u001b[0;32m~/Library/Python/3.8/lib/python/site-packages/pandas/core/indexes/base.py\u001b[0m in \u001b[0;36m__setitem__\u001b[0;34m(self, key, value)\u001b[0m\n\u001b[1;32m   4275\u001b[0m     \u001b[0;34m@\u001b[0m\u001b[0mfinal\u001b[0m\u001b[0;34m\u001b[0m\u001b[0;34m\u001b[0m\u001b[0m\n\u001b[1;32m   4276\u001b[0m     \u001b[0;32mdef\u001b[0m \u001b[0m__setitem__\u001b[0m\u001b[0;34m(\u001b[0m\u001b[0mself\u001b[0m\u001b[0;34m,\u001b[0m \u001b[0mkey\u001b[0m\u001b[0;34m,\u001b[0m \u001b[0mvalue\u001b[0m\u001b[0;34m)\u001b[0m\u001b[0;34m:\u001b[0m\u001b[0;34m\u001b[0m\u001b[0;34m\u001b[0m\u001b[0m\n\u001b[0;32m-> 4277\u001b[0;31m         \u001b[0;32mraise\u001b[0m \u001b[0mTypeError\u001b[0m\u001b[0;34m(\u001b[0m\u001b[0;34m\"Index does not support mutable operations\"\u001b[0m\u001b[0;34m)\u001b[0m\u001b[0;34m\u001b[0m\u001b[0;34m\u001b[0m\u001b[0m\n\u001b[0m\u001b[1;32m   4278\u001b[0m \u001b[0;34m\u001b[0m\u001b[0m\n\u001b[1;32m   4279\u001b[0m     \u001b[0;32mdef\u001b[0m \u001b[0m__getitem__\u001b[0m\u001b[0;34m(\u001b[0m\u001b[0mself\u001b[0m\u001b[0;34m,\u001b[0m \u001b[0mkey\u001b[0m\u001b[0;34m)\u001b[0m\u001b[0;34m:\u001b[0m\u001b[0;34m\u001b[0m\u001b[0;34m\u001b[0m\u001b[0m\n",
      "\u001b[0;31mTypeError\u001b[0m: Index does not support mutable operations"
     ]
    }
   ],
   "source": [
    "# Indexes are immutable. And for good reason...\n",
    "eur_index[0] = 12"
   ]
  },
  {
   "cell_type": "code",
   "execution_count": 126,
   "metadata": {},
   "outputs": [
    {
     "output_type": "execute_result",
     "data": {
      "text/plain": [
       "          unemp_rate       gdp  total_pop\n",
       "country                                  \n",
       "Austria          6.0  356237.6    8401940\n",
       "Belgium          7.8  424660.3   11000638\n",
       "Bulgaria         7.6   48128.6    7364570\n",
       "Croatia         13.1   46639.5    4284889\n",
       "Cyprus          13.0   18490.2     840407"
      ],
      "text/html": "<div>\n<style scoped>\n    .dataframe tbody tr th:only-of-type {\n        vertical-align: middle;\n    }\n\n    .dataframe tbody tr th {\n        vertical-align: top;\n    }\n\n    .dataframe thead th {\n        text-align: right;\n    }\n</style>\n<table border=\"1\" class=\"dataframe\">\n  <thead>\n    <tr style=\"text-align: right;\">\n      <th></th>\n      <th>unemp_rate</th>\n      <th>gdp</th>\n      <th>total_pop</th>\n    </tr>\n    <tr>\n      <th>country</th>\n      <th></th>\n      <th></th>\n      <th></th>\n    </tr>\n  </thead>\n  <tbody>\n    <tr>\n      <th>Austria</th>\n      <td>6.0</td>\n      <td>356237.6</td>\n      <td>8401940</td>\n    </tr>\n    <tr>\n      <th>Belgium</th>\n      <td>7.8</td>\n      <td>424660.3</td>\n      <td>11000638</td>\n    </tr>\n    <tr>\n      <th>Bulgaria</th>\n      <td>7.6</td>\n      <td>48128.6</td>\n      <td>7364570</td>\n    </tr>\n    <tr>\n      <th>Croatia</th>\n      <td>13.1</td>\n      <td>46639.5</td>\n      <td>4284889</td>\n    </tr>\n    <tr>\n      <th>Cyprus</th>\n      <td>13.0</td>\n      <td>18490.2</td>\n      <td>840407</td>\n    </tr>\n  </tbody>\n</table>\n</div>"
     },
     "metadata": {},
     "execution_count": 126
    }
   ],
   "source": [
    "# Dataframes can also be indexed by labels, rather than numbers.\n",
    "# Use the .set_index() method to set the index for our dataframe\n",
    "eur_data_country_index = eur_data_sorted.set_index('country')\n",
    "eur_data_country_index.head()"
   ]
  },
  {
   "source": [
    "## 1.5 Exporting Data\n",
    "Pandas has robust I/O functionality."
   ],
   "cell_type": "markdown",
   "metadata": {}
  },
  {
   "cell_type": "code",
   "execution_count": 128,
   "metadata": {},
   "outputs": [],
   "source": [
    "# Helper function for generating a filepath\n",
    "def get_filepath(filename, extension):\n",
    "    return './data/out/' + filename + '.' + extension"
   ]
  },
  {
   "cell_type": "code",
   "execution_count": 129,
   "metadata": {},
   "outputs": [],
   "source": [
    "filepath = get_filepath('eur_data_sorted', 'csv')\n",
    "eur_data_sorted.to_csv(filepath)"
   ]
  },
  {
   "source": [
    "### Exercise - Write this dataframe to Excel,  JSON, and HTML"
   ],
   "cell_type": "markdown",
   "metadata": {}
  },
  {
   "cell_type": "code",
   "execution_count": 131,
   "metadata": {},
   "outputs": [],
   "source": [
    "# Excel (.xlsx)\n",
    "eur_data_sorted.to_excel(get_filepath('eur_data_sorted', 'xlsx'))"
   ]
  },
  {
   "cell_type": "code",
   "execution_count": 132,
   "metadata": {},
   "outputs": [],
   "source": [
    "# JSON (.json)\n",
    "eur_data_sorted.to_json(get_filepath('eur_data_sorted', 'json'))"
   ]
  },
  {
   "cell_type": "code",
   "execution_count": 133,
   "metadata": {},
   "outputs": [],
   "source": [
    "# HTML (.html)\n",
    "eur_data_sorted.to_html(get_filepath('eur_data_sorted', 'html'))"
   ]
  },
  {
   "source": [
    "## 2.1 Working with DataFrames\n",
    "Let's work with an existing dataframe that includes a lot of the same data from the previous sections."
   ],
   "cell_type": "markdown",
   "metadata": {}
  },
  {
   "cell_type": "code",
   "execution_count": 137,
   "metadata": {},
   "outputs": [],
   "source": [
    "# Read in the complete version of the europe data, using the first column as the index\n",
    "eur_data_final = pd.read_csv('./data/complete/eur_data_final.csv', index_col=0)"
   ]
  },
  {
   "cell_type": "code",
   "execution_count": 139,
   "metadata": {},
   "outputs": [
    {
     "output_type": "execute_result",
     "data": {
      "text/plain": [
       "       unemp_rate           gdp  median_income     total_pop\n",
       "count   32.000000  3.200000e+01      32.000000  3.200000e+01\n",
       "mean     8.337500  5.218333e+05   15972.343750  1.637612e+07\n",
       "std      4.393378  7.781849e+05    6640.636617  2.198819e+07\n",
       "min      3.000000  1.034410e+04    4724.000000  3.155560e+05\n",
       "25%      5.700000  4.775632e+04   10190.500000  3.974524e+06\n",
       "50%      7.300000  2.012768e+05   16205.000000  7.954662e+06\n",
       "75%      9.800000  4.987990e+05   21161.250000  1.241443e+07\n",
       "max     23.600000  3.159750e+06   28663.000000  8.021970e+07"
      ],
      "text/html": "<div>\n<style scoped>\n    .dataframe tbody tr th:only-of-type {\n        vertical-align: middle;\n    }\n\n    .dataframe tbody tr th {\n        vertical-align: top;\n    }\n\n    .dataframe thead th {\n        text-align: right;\n    }\n</style>\n<table border=\"1\" class=\"dataframe\">\n  <thead>\n    <tr style=\"text-align: right;\">\n      <th></th>\n      <th>unemp_rate</th>\n      <th>gdp</th>\n      <th>median_income</th>\n      <th>total_pop</th>\n    </tr>\n  </thead>\n  <tbody>\n    <tr>\n      <th>count</th>\n      <td>32.000000</td>\n      <td>3.200000e+01</td>\n      <td>32.000000</td>\n      <td>3.200000e+01</td>\n    </tr>\n    <tr>\n      <th>mean</th>\n      <td>8.337500</td>\n      <td>5.218333e+05</td>\n      <td>15972.343750</td>\n      <td>1.637612e+07</td>\n    </tr>\n    <tr>\n      <th>std</th>\n      <td>4.393378</td>\n      <td>7.781849e+05</td>\n      <td>6640.636617</td>\n      <td>2.198819e+07</td>\n    </tr>\n    <tr>\n      <th>min</th>\n      <td>3.000000</td>\n      <td>1.034410e+04</td>\n      <td>4724.000000</td>\n      <td>3.155560e+05</td>\n    </tr>\n    <tr>\n      <th>25%</th>\n      <td>5.700000</td>\n      <td>4.775632e+04</td>\n      <td>10190.500000</td>\n      <td>3.974524e+06</td>\n    </tr>\n    <tr>\n      <th>50%</th>\n      <td>7.300000</td>\n      <td>2.012768e+05</td>\n      <td>16205.000000</td>\n      <td>7.954662e+06</td>\n    </tr>\n    <tr>\n      <th>75%</th>\n      <td>9.800000</td>\n      <td>4.987990e+05</td>\n      <td>21161.250000</td>\n      <td>1.241443e+07</td>\n    </tr>\n    <tr>\n      <th>max</th>\n      <td>23.600000</td>\n      <td>3.159750e+06</td>\n      <td>28663.000000</td>\n      <td>8.021970e+07</td>\n    </tr>\n  </tbody>\n</table>\n</div>"
     },
     "metadata": {},
     "execution_count": 139
    }
   ],
   "source": [
    "# Inspect the data\n",
    "eur_data_final.head()\n",
    "eur_data_final.tail()\n",
    "eur_data_final.describe()"
   ]
  },
  {
   "cell_type": "code",
   "execution_count": 140,
   "metadata": {},
   "outputs": [
    {
     "output_type": "execute_result",
     "data": {
      "text/plain": [
       "unemp_rate       8.337500e+00\n",
       "gdp              5.218333e+05\n",
       "median_income    1.597234e+04\n",
       "total_pop        1.637612e+07\n",
       "dtype: float64"
      ]
     },
     "metadata": {},
     "execution_count": 140
    }
   ],
   "source": [
    "eur_data_final.mean()"
   ]
  },
  {
   "source": [
    "## 2.2 Boolean Indexing\n",
    "First of all, what is the boolean data type? It is data type that represents one of two possible values. For example, True False, On Off, etc."
   ],
   "cell_type": "markdown",
   "metadata": {}
  },
  {
   "cell_type": "code",
   "execution_count": 144,
   "metadata": {},
   "outputs": [
    {
     "output_type": "execute_result",
     "data": {
      "text/plain": [
       "   country  unemp_rate       gdp  median_income  total_pop\n",
       "0  Austria         6.0  356237.6          23071    8401940"
      ],
      "text/html": "<div>\n<style scoped>\n    .dataframe tbody tr th:only-of-type {\n        vertical-align: middle;\n    }\n\n    .dataframe tbody tr th {\n        vertical-align: top;\n    }\n\n    .dataframe thead th {\n        text-align: right;\n    }\n</style>\n<table border=\"1\" class=\"dataframe\">\n  <thead>\n    <tr style=\"text-align: right;\">\n      <th></th>\n      <th>country</th>\n      <th>unemp_rate</th>\n      <th>gdp</th>\n      <th>median_income</th>\n      <th>total_pop</th>\n    </tr>\n  </thead>\n  <tbody>\n    <tr>\n      <th>0</th>\n      <td>Austria</td>\n      <td>6.0</td>\n      <td>356237.6</td>\n      <td>23071</td>\n      <td>8401940</td>\n    </tr>\n  </tbody>\n</table>\n</div>"
     },
     "metadata": {},
     "execution_count": 144
    }
   ],
   "source": [
    "# Select all rows with the country name equal to Austria\n",
    "eur_data_final.country\n",
    "austria_bool = eur_data_final.country == 'Austria'\n",
    "eur_data_final[austria_bool]"
   ]
  },
  {
   "cell_type": "code",
   "execution_count": 145,
   "metadata": {},
   "outputs": [
    {
     "output_type": "execute_result",
     "data": {
      "text/plain": [
       "   country  unemp_rate       gdp  median_income  total_pop\n",
       "11  Greece        23.6  176487.9           9048   10816286"
      ],
      "text/html": "<div>\n<style scoped>\n    .dataframe tbody tr th:only-of-type {\n        vertical-align: middle;\n    }\n\n    .dataframe tbody tr th {\n        vertical-align: top;\n    }\n\n    .dataframe thead th {\n        text-align: right;\n    }\n</style>\n<table border=\"1\" class=\"dataframe\">\n  <thead>\n    <tr style=\"text-align: right;\">\n      <th></th>\n      <th>country</th>\n      <th>unemp_rate</th>\n      <th>gdp</th>\n      <th>median_income</th>\n      <th>total_pop</th>\n    </tr>\n  </thead>\n  <tbody>\n    <tr>\n      <th>11</th>\n      <td>Greece</td>\n      <td>23.6</td>\n      <td>176487.9</td>\n      <td>9048</td>\n      <td>10816286</td>\n    </tr>\n  </tbody>\n</table>\n</div>"
     },
     "metadata": {},
     "execution_count": 145
    }
   ],
   "source": [
    "# Now do the same with bracket notation for the country of Greece\n",
    "greece_bool = eur_data_final['country'] == 'Greece'\n",
    "eur_data_final[greece_bool]"
   ]
  },
  {
   "source": [
    "Queries can also be generated using partial matches."
   ],
   "cell_type": "markdown",
   "metadata": {}
  },
  {
   "cell_type": "code",
   "execution_count": 147,
   "metadata": {},
   "outputs": [
    {
     "output_type": "execute_result",
     "data": {
      "text/plain": [
       "        country  unemp_rate        gdp  median_income  total_pop\n",
       "1       Belgium         7.8   424660.3          21335   11000638\n",
       "2      Bulgaria         7.6    48128.6           6742    7364570\n",
       "8       Finland         8.8   216073.0          19997    5375276\n",
       "13      Iceland         3.0    18646.1          22193     315556\n",
       "14      Ireland         8.4   273238.2          18286    4574888\n",
       "15        Italy        11.7  1689824.0          16237   59433744\n",
       "19        Malta         4.7    10344.1          17264     417432\n",
       "20  Netherlands         6.0   708337.0          21189   16655799\n",
       "22       Poland         6.2   426547.5          10865   38044565\n",
       "23     Portugal        11.2   186480.5          10805   10562178\n",
       "25     Slovakia         9.7    81226.1          10466    5397036\n",
       "26     Slovenia         8.0    40357.2          15250    2050189\n",
       "29  Switzerland         5.0   605753.7          27692    7954662"
      ],
      "text/html": "<div>\n<style scoped>\n    .dataframe tbody tr th:only-of-type {\n        vertical-align: middle;\n    }\n\n    .dataframe tbody tr th {\n        vertical-align: top;\n    }\n\n    .dataframe thead th {\n        text-align: right;\n    }\n</style>\n<table border=\"1\" class=\"dataframe\">\n  <thead>\n    <tr style=\"text-align: right;\">\n      <th></th>\n      <th>country</th>\n      <th>unemp_rate</th>\n      <th>gdp</th>\n      <th>median_income</th>\n      <th>total_pop</th>\n    </tr>\n  </thead>\n  <tbody>\n    <tr>\n      <th>1</th>\n      <td>Belgium</td>\n      <td>7.8</td>\n      <td>424660.3</td>\n      <td>21335</td>\n      <td>11000638</td>\n    </tr>\n    <tr>\n      <th>2</th>\n      <td>Bulgaria</td>\n      <td>7.6</td>\n      <td>48128.6</td>\n      <td>6742</td>\n      <td>7364570</td>\n    </tr>\n    <tr>\n      <th>8</th>\n      <td>Finland</td>\n      <td>8.8</td>\n      <td>216073.0</td>\n      <td>19997</td>\n      <td>5375276</td>\n    </tr>\n    <tr>\n      <th>13</th>\n      <td>Iceland</td>\n      <td>3.0</td>\n      <td>18646.1</td>\n      <td>22193</td>\n      <td>315556</td>\n    </tr>\n    <tr>\n      <th>14</th>\n      <td>Ireland</td>\n      <td>8.4</td>\n      <td>273238.2</td>\n      <td>18286</td>\n      <td>4574888</td>\n    </tr>\n    <tr>\n      <th>15</th>\n      <td>Italy</td>\n      <td>11.7</td>\n      <td>1689824.0</td>\n      <td>16237</td>\n      <td>59433744</td>\n    </tr>\n    <tr>\n      <th>19</th>\n      <td>Malta</td>\n      <td>4.7</td>\n      <td>10344.1</td>\n      <td>17264</td>\n      <td>417432</td>\n    </tr>\n    <tr>\n      <th>20</th>\n      <td>Netherlands</td>\n      <td>6.0</td>\n      <td>708337.0</td>\n      <td>21189</td>\n      <td>16655799</td>\n    </tr>\n    <tr>\n      <th>22</th>\n      <td>Poland</td>\n      <td>6.2</td>\n      <td>426547.5</td>\n      <td>10865</td>\n      <td>38044565</td>\n    </tr>\n    <tr>\n      <th>23</th>\n      <td>Portugal</td>\n      <td>11.2</td>\n      <td>186480.5</td>\n      <td>10805</td>\n      <td>10562178</td>\n    </tr>\n    <tr>\n      <th>25</th>\n      <td>Slovakia</td>\n      <td>9.7</td>\n      <td>81226.1</td>\n      <td>10466</td>\n      <td>5397036</td>\n    </tr>\n    <tr>\n      <th>26</th>\n      <td>Slovenia</td>\n      <td>8.0</td>\n      <td>40357.2</td>\n      <td>15250</td>\n      <td>2050189</td>\n    </tr>\n    <tr>\n      <th>29</th>\n      <td>Switzerland</td>\n      <td>5.0</td>\n      <td>605753.7</td>\n      <td>27692</td>\n      <td>7954662</td>\n    </tr>\n  </tbody>\n</table>\n</div>"
     },
     "metadata": {},
     "execution_count": 147
    }
   ],
   "source": [
    "# Get all countries with the letter l in their name\n",
    "l_names = eur_data_final['country'].str.contains('l')\n",
    "eur_data_final[l_names]"
   ]
  },
  {
   "cell_type": "code",
   "execution_count": 149,
   "metadata": {},
   "outputs": [
    {
     "output_type": "execute_result",
     "data": {
      "text/plain": [
       "        country  unemp_rate        gdp  median_income  total_pop\n",
       "1       Belgium         7.8   424660.3          21335   11000638\n",
       "2      Bulgaria         7.6    48128.6           6742    7364570\n",
       "8       Finland         8.8   216073.0          19997    5375276\n",
       "13      Iceland         3.0    18646.1          22193     315556\n",
       "14      Ireland         8.4   273238.2          18286    4574888\n",
       "15        Italy        11.7  1689824.0          16237   59433744\n",
       "16       Latvia         9.6    25037.7           9257    2070371\n",
       "17    Lithuania         7.9    38849.4           9364    3043429\n",
       "18   Luxembourg         6.3    53303.0          28663     512353\n",
       "19        Malta         4.7    10344.1          17264     417432\n",
       "20  Netherlands         6.0   708337.0          21189   16655799\n",
       "22       Poland         6.2   426547.5          10865   38044565\n",
       "23     Portugal        11.2   186480.5          10805   10562178\n",
       "25     Slovakia         9.7    81226.1          10466    5397036\n",
       "26     Slovenia         8.0    40357.2          15250    2050189\n",
       "29  Switzerland         5.0   605753.7          27692    7954662"
      ],
      "text/html": "<div>\n<style scoped>\n    .dataframe tbody tr th:only-of-type {\n        vertical-align: middle;\n    }\n\n    .dataframe tbody tr th {\n        vertical-align: top;\n    }\n\n    .dataframe thead th {\n        text-align: right;\n    }\n</style>\n<table border=\"1\" class=\"dataframe\">\n  <thead>\n    <tr style=\"text-align: right;\">\n      <th></th>\n      <th>country</th>\n      <th>unemp_rate</th>\n      <th>gdp</th>\n      <th>median_income</th>\n      <th>total_pop</th>\n    </tr>\n  </thead>\n  <tbody>\n    <tr>\n      <th>1</th>\n      <td>Belgium</td>\n      <td>7.8</td>\n      <td>424660.3</td>\n      <td>21335</td>\n      <td>11000638</td>\n    </tr>\n    <tr>\n      <th>2</th>\n      <td>Bulgaria</td>\n      <td>7.6</td>\n      <td>48128.6</td>\n      <td>6742</td>\n      <td>7364570</td>\n    </tr>\n    <tr>\n      <th>8</th>\n      <td>Finland</td>\n      <td>8.8</td>\n      <td>216073.0</td>\n      <td>19997</td>\n      <td>5375276</td>\n    </tr>\n    <tr>\n      <th>13</th>\n      <td>Iceland</td>\n      <td>3.0</td>\n      <td>18646.1</td>\n      <td>22193</td>\n      <td>315556</td>\n    </tr>\n    <tr>\n      <th>14</th>\n      <td>Ireland</td>\n      <td>8.4</td>\n      <td>273238.2</td>\n      <td>18286</td>\n      <td>4574888</td>\n    </tr>\n    <tr>\n      <th>15</th>\n      <td>Italy</td>\n      <td>11.7</td>\n      <td>1689824.0</td>\n      <td>16237</td>\n      <td>59433744</td>\n    </tr>\n    <tr>\n      <th>16</th>\n      <td>Latvia</td>\n      <td>9.6</td>\n      <td>25037.7</td>\n      <td>9257</td>\n      <td>2070371</td>\n    </tr>\n    <tr>\n      <th>17</th>\n      <td>Lithuania</td>\n      <td>7.9</td>\n      <td>38849.4</td>\n      <td>9364</td>\n      <td>3043429</td>\n    </tr>\n    <tr>\n      <th>18</th>\n      <td>Luxembourg</td>\n      <td>6.3</td>\n      <td>53303.0</td>\n      <td>28663</td>\n      <td>512353</td>\n    </tr>\n    <tr>\n      <th>19</th>\n      <td>Malta</td>\n      <td>4.7</td>\n      <td>10344.1</td>\n      <td>17264</td>\n      <td>417432</td>\n    </tr>\n    <tr>\n      <th>20</th>\n      <td>Netherlands</td>\n      <td>6.0</td>\n      <td>708337.0</td>\n      <td>21189</td>\n      <td>16655799</td>\n    </tr>\n    <tr>\n      <th>22</th>\n      <td>Poland</td>\n      <td>6.2</td>\n      <td>426547.5</td>\n      <td>10865</td>\n      <td>38044565</td>\n    </tr>\n    <tr>\n      <th>23</th>\n      <td>Portugal</td>\n      <td>11.2</td>\n      <td>186480.5</td>\n      <td>10805</td>\n      <td>10562178</td>\n    </tr>\n    <tr>\n      <th>25</th>\n      <td>Slovakia</td>\n      <td>9.7</td>\n      <td>81226.1</td>\n      <td>10466</td>\n      <td>5397036</td>\n    </tr>\n    <tr>\n      <th>26</th>\n      <td>Slovenia</td>\n      <td>8.0</td>\n      <td>40357.2</td>\n      <td>15250</td>\n      <td>2050189</td>\n    </tr>\n    <tr>\n      <th>29</th>\n      <td>Switzerland</td>\n      <td>5.0</td>\n      <td>605753.7</td>\n      <td>27692</td>\n      <td>7954662</td>\n    </tr>\n  </tbody>\n</table>\n</div>"
     },
     "metadata": {},
     "execution_count": 149
    }
   ],
   "source": [
    "# Notice that there is one country missing: Luxembourg. Why is that?\n",
    "l_names_insensitive = eur_data_final.country.str.contains('l', case=False)\n",
    "eur_data_final[l_names_insensitive]"
   ]
  },
  {
   "source": [
    "## 2.3 Multiple queries\n",
    "So far, we've looked at queries with a single condition. Let's look at multiple query conditions."
   ],
   "cell_type": "markdown",
   "metadata": {}
  },
  {
   "cell_type": "code",
   "execution_count": 150,
   "metadata": {},
   "outputs": [],
   "source": [
    "# Create bool series for countries with unemployment less than 7\n",
    "low_unemployment = eur_data_final.unemp_rate < 7"
   ]
  },
  {
   "cell_type": "code",
   "execution_count": 151,
   "metadata": {},
   "outputs": [
    {
     "output_type": "error",
     "ename": "ValueError",
     "evalue": "The truth value of a Series is ambiguous. Use a.empty, a.bool(), a.item(), a.any() or a.all().",
     "traceback": [
      "\u001b[0;31m---------------------------------------------------------------------------\u001b[0m",
      "\u001b[0;31mValueError\u001b[0m                                Traceback (most recent call last)",
      "\u001b[0;32m<ipython-input-151-57600958909a>\u001b[0m in \u001b[0;36m<module>\u001b[0;34m\u001b[0m\n\u001b[1;32m      1\u001b[0m \u001b[0;31m# Combine with this l_names series\u001b[0m\u001b[0;34m\u001b[0m\u001b[0;34m\u001b[0m\u001b[0;34m\u001b[0m\u001b[0m\n\u001b[0;32m----> 2\u001b[0;31m \u001b[0meur_data_final\u001b[0m\u001b[0;34m[\u001b[0m\u001b[0ml_names_insensitive\u001b[0m \u001b[0;32mand\u001b[0m \u001b[0mlow_unemployment\u001b[0m\u001b[0;34m]\u001b[0m\u001b[0;34m\u001b[0m\u001b[0;34m\u001b[0m\u001b[0m\n\u001b[0m",
      "\u001b[0;32m~/Library/Python/3.8/lib/python/site-packages/pandas/core/generic.py\u001b[0m in \u001b[0;36m__nonzero__\u001b[0;34m(self)\u001b[0m\n\u001b[1;32m   1437\u001b[0m     \u001b[0;34m@\u001b[0m\u001b[0mfinal\u001b[0m\u001b[0;34m\u001b[0m\u001b[0;34m\u001b[0m\u001b[0m\n\u001b[1;32m   1438\u001b[0m     \u001b[0;32mdef\u001b[0m \u001b[0m__nonzero__\u001b[0m\u001b[0;34m(\u001b[0m\u001b[0mself\u001b[0m\u001b[0;34m)\u001b[0m\u001b[0;34m:\u001b[0m\u001b[0;34m\u001b[0m\u001b[0;34m\u001b[0m\u001b[0m\n\u001b[0;32m-> 1439\u001b[0;31m         raise ValueError(\n\u001b[0m\u001b[1;32m   1440\u001b[0m             \u001b[0;34mf\"The truth value of a {type(self).__name__} is ambiguous. \"\u001b[0m\u001b[0;34m\u001b[0m\u001b[0;34m\u001b[0m\u001b[0m\n\u001b[1;32m   1441\u001b[0m             \u001b[0;34m\"Use a.empty, a.bool(), a.item(), a.any() or a.all().\"\u001b[0m\u001b[0;34m\u001b[0m\u001b[0;34m\u001b[0m\u001b[0m\n",
      "\u001b[0;31mValueError\u001b[0m: The truth value of a Series is ambiguous. Use a.empty, a.bool(), a.item(), a.any() or a.all()."
     ]
    }
   ],
   "source": [
    "# Combine with this l_names series\n",
    "eur_data_final[l_names_insensitive and low_unemployment]"
   ]
  },
  {
   "cell_type": "code",
   "execution_count": 152,
   "metadata": {},
   "outputs": [
    {
     "output_type": "execute_result",
     "data": {
      "text/plain": [
       "        country  unemp_rate       gdp  median_income  total_pop\n",
       "13      Iceland         3.0   18646.1          22193     315556\n",
       "18   Luxembourg         6.3   53303.0          28663     512353\n",
       "19        Malta         4.7   10344.1          17264     417432\n",
       "20  Netherlands         6.0  708337.0          21189   16655799\n",
       "22       Poland         6.2  426547.5          10865   38044565\n",
       "29  Switzerland         5.0  605753.7          27692    7954662"
      ],
      "text/html": "<div>\n<style scoped>\n    .dataframe tbody tr th:only-of-type {\n        vertical-align: middle;\n    }\n\n    .dataframe tbody tr th {\n        vertical-align: top;\n    }\n\n    .dataframe thead th {\n        text-align: right;\n    }\n</style>\n<table border=\"1\" class=\"dataframe\">\n  <thead>\n    <tr style=\"text-align: right;\">\n      <th></th>\n      <th>country</th>\n      <th>unemp_rate</th>\n      <th>gdp</th>\n      <th>median_income</th>\n      <th>total_pop</th>\n    </tr>\n  </thead>\n  <tbody>\n    <tr>\n      <th>13</th>\n      <td>Iceland</td>\n      <td>3.0</td>\n      <td>18646.1</td>\n      <td>22193</td>\n      <td>315556</td>\n    </tr>\n    <tr>\n      <th>18</th>\n      <td>Luxembourg</td>\n      <td>6.3</td>\n      <td>53303.0</td>\n      <td>28663</td>\n      <td>512353</td>\n    </tr>\n    <tr>\n      <th>19</th>\n      <td>Malta</td>\n      <td>4.7</td>\n      <td>10344.1</td>\n      <td>17264</td>\n      <td>417432</td>\n    </tr>\n    <tr>\n      <th>20</th>\n      <td>Netherlands</td>\n      <td>6.0</td>\n      <td>708337.0</td>\n      <td>21189</td>\n      <td>16655799</td>\n    </tr>\n    <tr>\n      <th>22</th>\n      <td>Poland</td>\n      <td>6.2</td>\n      <td>426547.5</td>\n      <td>10865</td>\n      <td>38044565</td>\n    </tr>\n    <tr>\n      <th>29</th>\n      <td>Switzerland</td>\n      <td>5.0</td>\n      <td>605753.7</td>\n      <td>27692</td>\n      <td>7954662</td>\n    </tr>\n  </tbody>\n</table>\n</div>"
     },
     "metadata": {},
     "execution_count": 152
    }
   ],
   "source": [
    "# In set theory, this is intersection. i.e. 'and'\n",
    "eur_data_final[l_names_insensitive & low_unemployment]"
   ]
  },
  {
   "cell_type": "code",
   "execution_count": 153,
   "metadata": {},
   "outputs": [
    {
     "output_type": "execute_result",
     "data": {
      "text/plain": [
       "           country  unemp_rate        gdp  median_income  total_pop\n",
       "0          Austria         6.0   356237.6          23071    8401940\n",
       "1          Belgium         7.8   424660.3          21335   11000638\n",
       "2         Bulgaria         7.6    48128.6           6742    7364570\n",
       "5          Czechia         4.0   176370.1          12478   10436560\n",
       "6          Denmark         6.2   282089.9          21355    5560628\n",
       "7          Estonia         6.8    21682.6          11867    1294455\n",
       "8          Finland         8.8   216073.0          19997    5375276\n",
       "10         Germany         4.1  3159750.0          21152   80219695\n",
       "12         Hungary         5.1   113903.8           8267    9937628\n",
       "13         Iceland         3.0    18646.1          22193     315556\n",
       "14         Ireland         8.4   273238.2          18286    4574888\n",
       "15           Italy        11.7  1689824.0          16237   59433744\n",
       "18      Luxembourg         6.3    53303.0          28663     512353\n",
       "19           Malta         4.7    10344.1          17264     417432\n",
       "20     Netherlands         6.0   708337.0          21189   16655799\n",
       "21          Norway         4.7   335747.5          27670    4979954\n",
       "22          Poland         6.2   426547.5          10865   38044565\n",
       "23        Portugal        11.2   186480.5          10805   10562178\n",
       "24         Romania         5.9   170393.6           4724   20121641\n",
       "25        Slovakia         9.7    81226.1          10466    5397036\n",
       "26        Slovenia         8.0    40357.2          15250    2050189\n",
       "29     Switzerland         5.0   605753.7          27692    7954662\n",
       "31  United Kingdom         4.8  2403382.6          17296   63182180"
      ],
      "text/html": "<div>\n<style scoped>\n    .dataframe tbody tr th:only-of-type {\n        vertical-align: middle;\n    }\n\n    .dataframe tbody tr th {\n        vertical-align: top;\n    }\n\n    .dataframe thead th {\n        text-align: right;\n    }\n</style>\n<table border=\"1\" class=\"dataframe\">\n  <thead>\n    <tr style=\"text-align: right;\">\n      <th></th>\n      <th>country</th>\n      <th>unemp_rate</th>\n      <th>gdp</th>\n      <th>median_income</th>\n      <th>total_pop</th>\n    </tr>\n  </thead>\n  <tbody>\n    <tr>\n      <th>0</th>\n      <td>Austria</td>\n      <td>6.0</td>\n      <td>356237.6</td>\n      <td>23071</td>\n      <td>8401940</td>\n    </tr>\n    <tr>\n      <th>1</th>\n      <td>Belgium</td>\n      <td>7.8</td>\n      <td>424660.3</td>\n      <td>21335</td>\n      <td>11000638</td>\n    </tr>\n    <tr>\n      <th>2</th>\n      <td>Bulgaria</td>\n      <td>7.6</td>\n      <td>48128.6</td>\n      <td>6742</td>\n      <td>7364570</td>\n    </tr>\n    <tr>\n      <th>5</th>\n      <td>Czechia</td>\n      <td>4.0</td>\n      <td>176370.1</td>\n      <td>12478</td>\n      <td>10436560</td>\n    </tr>\n    <tr>\n      <th>6</th>\n      <td>Denmark</td>\n      <td>6.2</td>\n      <td>282089.9</td>\n      <td>21355</td>\n      <td>5560628</td>\n    </tr>\n    <tr>\n      <th>7</th>\n      <td>Estonia</td>\n      <td>6.8</td>\n      <td>21682.6</td>\n      <td>11867</td>\n      <td>1294455</td>\n    </tr>\n    <tr>\n      <th>8</th>\n      <td>Finland</td>\n      <td>8.8</td>\n      <td>216073.0</td>\n      <td>19997</td>\n      <td>5375276</td>\n    </tr>\n    <tr>\n      <th>10</th>\n      <td>Germany</td>\n      <td>4.1</td>\n      <td>3159750.0</td>\n      <td>21152</td>\n      <td>80219695</td>\n    </tr>\n    <tr>\n      <th>12</th>\n      <td>Hungary</td>\n      <td>5.1</td>\n      <td>113903.8</td>\n      <td>8267</td>\n      <td>9937628</td>\n    </tr>\n    <tr>\n      <th>13</th>\n      <td>Iceland</td>\n      <td>3.0</td>\n      <td>18646.1</td>\n      <td>22193</td>\n      <td>315556</td>\n    </tr>\n    <tr>\n      <th>14</th>\n      <td>Ireland</td>\n      <td>8.4</td>\n      <td>273238.2</td>\n      <td>18286</td>\n      <td>4574888</td>\n    </tr>\n    <tr>\n      <th>15</th>\n      <td>Italy</td>\n      <td>11.7</td>\n      <td>1689824.0</td>\n      <td>16237</td>\n      <td>59433744</td>\n    </tr>\n    <tr>\n      <th>18</th>\n      <td>Luxembourg</td>\n      <td>6.3</td>\n      <td>53303.0</td>\n      <td>28663</td>\n      <td>512353</td>\n    </tr>\n    <tr>\n      <th>19</th>\n      <td>Malta</td>\n      <td>4.7</td>\n      <td>10344.1</td>\n      <td>17264</td>\n      <td>417432</td>\n    </tr>\n    <tr>\n      <th>20</th>\n      <td>Netherlands</td>\n      <td>6.0</td>\n      <td>708337.0</td>\n      <td>21189</td>\n      <td>16655799</td>\n    </tr>\n    <tr>\n      <th>21</th>\n      <td>Norway</td>\n      <td>4.7</td>\n      <td>335747.5</td>\n      <td>27670</td>\n      <td>4979954</td>\n    </tr>\n    <tr>\n      <th>22</th>\n      <td>Poland</td>\n      <td>6.2</td>\n      <td>426547.5</td>\n      <td>10865</td>\n      <td>38044565</td>\n    </tr>\n    <tr>\n      <th>23</th>\n      <td>Portugal</td>\n      <td>11.2</td>\n      <td>186480.5</td>\n      <td>10805</td>\n      <td>10562178</td>\n    </tr>\n    <tr>\n      <th>24</th>\n      <td>Romania</td>\n      <td>5.9</td>\n      <td>170393.6</td>\n      <td>4724</td>\n      <td>20121641</td>\n    </tr>\n    <tr>\n      <th>25</th>\n      <td>Slovakia</td>\n      <td>9.7</td>\n      <td>81226.1</td>\n      <td>10466</td>\n      <td>5397036</td>\n    </tr>\n    <tr>\n      <th>26</th>\n      <td>Slovenia</td>\n      <td>8.0</td>\n      <td>40357.2</td>\n      <td>15250</td>\n      <td>2050189</td>\n    </tr>\n    <tr>\n      <th>29</th>\n      <td>Switzerland</td>\n      <td>5.0</td>\n      <td>605753.7</td>\n      <td>27692</td>\n      <td>7954662</td>\n    </tr>\n    <tr>\n      <th>31</th>\n      <td>United Kingdom</td>\n      <td>4.8</td>\n      <td>2403382.6</td>\n      <td>17296</td>\n      <td>63182180</td>\n    </tr>\n  </tbody>\n</table>\n</div>"
     },
     "metadata": {},
     "execution_count": 153
    }
   ],
   "source": [
    "# In set theory, this is union. i.e. 'or'\n",
    "eur_data_final[l_names | low_unemployment]"
   ]
  },
  {
   "cell_type": "code",
   "execution_count": 154,
   "metadata": {},
   "outputs": [
    {
     "output_type": "execute_result",
     "data": {
      "text/plain": [
       "      country  unemp_rate        gdp  median_income  total_pop\n",
       "1     Belgium         7.8   424660.3          21335   11000638\n",
       "2    Bulgaria         7.6    48128.6           6742    7364570\n",
       "3     Croatia        13.1    46639.5           8985    4284889\n",
       "4      Cyprus        13.0    18490.2          16173     840407\n",
       "8     Finland         8.8   216073.0          19997    5375276\n",
       "9      France        10.1  2228568.0          20621   64933400\n",
       "11     Greece        23.6   176487.9           9048   10816286\n",
       "14    Ireland         8.4   273238.2          18286    4574888\n",
       "15      Italy        11.7  1689824.0          16237   59433744\n",
       "16     Latvia         9.6    25037.7           9257    2070371\n",
       "17  Lithuania         7.9    38849.4           9364    3043429\n",
       "23   Portugal        11.2   186480.5          10805   10562178\n",
       "25   Slovakia         9.7    81226.1          10466    5397036\n",
       "26   Slovenia         8.0    40357.2          15250    2050189\n",
       "27      Spain        19.6  1118743.0          15347   46815910\n",
       "28     Sweden         7.0   463147.5          20955    9482855\n",
       "30     Turkey        10.9   780224.9           6501    7954662"
      ],
      "text/html": "<div>\n<style scoped>\n    .dataframe tbody tr th:only-of-type {\n        vertical-align: middle;\n    }\n\n    .dataframe tbody tr th {\n        vertical-align: top;\n    }\n\n    .dataframe thead th {\n        text-align: right;\n    }\n</style>\n<table border=\"1\" class=\"dataframe\">\n  <thead>\n    <tr style=\"text-align: right;\">\n      <th></th>\n      <th>country</th>\n      <th>unemp_rate</th>\n      <th>gdp</th>\n      <th>median_income</th>\n      <th>total_pop</th>\n    </tr>\n  </thead>\n  <tbody>\n    <tr>\n      <th>1</th>\n      <td>Belgium</td>\n      <td>7.8</td>\n      <td>424660.3</td>\n      <td>21335</td>\n      <td>11000638</td>\n    </tr>\n    <tr>\n      <th>2</th>\n      <td>Bulgaria</td>\n      <td>7.6</td>\n      <td>48128.6</td>\n      <td>6742</td>\n      <td>7364570</td>\n    </tr>\n    <tr>\n      <th>3</th>\n      <td>Croatia</td>\n      <td>13.1</td>\n      <td>46639.5</td>\n      <td>8985</td>\n      <td>4284889</td>\n    </tr>\n    <tr>\n      <th>4</th>\n      <td>Cyprus</td>\n      <td>13.0</td>\n      <td>18490.2</td>\n      <td>16173</td>\n      <td>840407</td>\n    </tr>\n    <tr>\n      <th>8</th>\n      <td>Finland</td>\n      <td>8.8</td>\n      <td>216073.0</td>\n      <td>19997</td>\n      <td>5375276</td>\n    </tr>\n    <tr>\n      <th>9</th>\n      <td>France</td>\n      <td>10.1</td>\n      <td>2228568.0</td>\n      <td>20621</td>\n      <td>64933400</td>\n    </tr>\n    <tr>\n      <th>11</th>\n      <td>Greece</td>\n      <td>23.6</td>\n      <td>176487.9</td>\n      <td>9048</td>\n      <td>10816286</td>\n    </tr>\n    <tr>\n      <th>14</th>\n      <td>Ireland</td>\n      <td>8.4</td>\n      <td>273238.2</td>\n      <td>18286</td>\n      <td>4574888</td>\n    </tr>\n    <tr>\n      <th>15</th>\n      <td>Italy</td>\n      <td>11.7</td>\n      <td>1689824.0</td>\n      <td>16237</td>\n      <td>59433744</td>\n    </tr>\n    <tr>\n      <th>16</th>\n      <td>Latvia</td>\n      <td>9.6</td>\n      <td>25037.7</td>\n      <td>9257</td>\n      <td>2070371</td>\n    </tr>\n    <tr>\n      <th>17</th>\n      <td>Lithuania</td>\n      <td>7.9</td>\n      <td>38849.4</td>\n      <td>9364</td>\n      <td>3043429</td>\n    </tr>\n    <tr>\n      <th>23</th>\n      <td>Portugal</td>\n      <td>11.2</td>\n      <td>186480.5</td>\n      <td>10805</td>\n      <td>10562178</td>\n    </tr>\n    <tr>\n      <th>25</th>\n      <td>Slovakia</td>\n      <td>9.7</td>\n      <td>81226.1</td>\n      <td>10466</td>\n      <td>5397036</td>\n    </tr>\n    <tr>\n      <th>26</th>\n      <td>Slovenia</td>\n      <td>8.0</td>\n      <td>40357.2</td>\n      <td>15250</td>\n      <td>2050189</td>\n    </tr>\n    <tr>\n      <th>27</th>\n      <td>Spain</td>\n      <td>19.6</td>\n      <td>1118743.0</td>\n      <td>15347</td>\n      <td>46815910</td>\n    </tr>\n    <tr>\n      <th>28</th>\n      <td>Sweden</td>\n      <td>7.0</td>\n      <td>463147.5</td>\n      <td>20955</td>\n      <td>9482855</td>\n    </tr>\n    <tr>\n      <th>30</th>\n      <td>Turkey</td>\n      <td>10.9</td>\n      <td>780224.9</td>\n      <td>6501</td>\n      <td>7954662</td>\n    </tr>\n  </tbody>\n</table>\n</div>"
     },
     "metadata": {},
     "execution_count": 154
    }
   ],
   "source": [
    "# In set theory, this is complement. i.e. 'not'\n",
    "eur_data_final[~low_unemployment]"
   ]
  },
  {
   "source": [
    "### Exercise - What countries have an unemployment rate greater than 9% and a GDP less than 280000?"
   ],
   "cell_type": "markdown",
   "metadata": {}
  },
  {
   "cell_type": "code",
   "execution_count": 156,
   "metadata": {},
   "outputs": [
    {
     "output_type": "execute_result",
     "data": {
      "text/plain": [
       "           country  unemp_rate        gdp  median_income  total_pop\n",
       "4           Cyprus        13.0    18490.2          16173     840407\n",
       "5          Czechia         4.0   176370.1          12478   10436560\n",
       "7          Estonia         6.8    21682.6          11867    1294455\n",
       "8          Finland         8.8   216073.0          19997    5375276\n",
       "14         Ireland         8.4   273238.2          18286    4574888\n",
       "15           Italy        11.7  1689824.0          16237   59433744\n",
       "19           Malta         4.7    10344.1          17264     417432\n",
       "22          Poland         6.2   426547.5          10865   38044565\n",
       "23        Portugal        11.2   186480.5          10805   10562178\n",
       "25        Slovakia         9.7    81226.1          10466    5397036\n",
       "26        Slovenia         8.0    40357.2          15250    2050189\n",
       "27           Spain        19.6  1118743.0          15347   46815910\n",
       "31  United Kingdom         4.8  2403382.6          17296   63182180"
      ],
      "text/html": "<div>\n<style scoped>\n    .dataframe tbody tr th:only-of-type {\n        vertical-align: middle;\n    }\n\n    .dataframe tbody tr th {\n        vertical-align: top;\n    }\n\n    .dataframe thead th {\n        text-align: right;\n    }\n</style>\n<table border=\"1\" class=\"dataframe\">\n  <thead>\n    <tr style=\"text-align: right;\">\n      <th></th>\n      <th>country</th>\n      <th>unemp_rate</th>\n      <th>gdp</th>\n      <th>median_income</th>\n      <th>total_pop</th>\n    </tr>\n  </thead>\n  <tbody>\n    <tr>\n      <th>4</th>\n      <td>Cyprus</td>\n      <td>13.0</td>\n      <td>18490.2</td>\n      <td>16173</td>\n      <td>840407</td>\n    </tr>\n    <tr>\n      <th>5</th>\n      <td>Czechia</td>\n      <td>4.0</td>\n      <td>176370.1</td>\n      <td>12478</td>\n      <td>10436560</td>\n    </tr>\n    <tr>\n      <th>7</th>\n      <td>Estonia</td>\n      <td>6.8</td>\n      <td>21682.6</td>\n      <td>11867</td>\n      <td>1294455</td>\n    </tr>\n    <tr>\n      <th>8</th>\n      <td>Finland</td>\n      <td>8.8</td>\n      <td>216073.0</td>\n      <td>19997</td>\n      <td>5375276</td>\n    </tr>\n    <tr>\n      <th>14</th>\n      <td>Ireland</td>\n      <td>8.4</td>\n      <td>273238.2</td>\n      <td>18286</td>\n      <td>4574888</td>\n    </tr>\n    <tr>\n      <th>15</th>\n      <td>Italy</td>\n      <td>11.7</td>\n      <td>1689824.0</td>\n      <td>16237</td>\n      <td>59433744</td>\n    </tr>\n    <tr>\n      <th>19</th>\n      <td>Malta</td>\n      <td>4.7</td>\n      <td>10344.1</td>\n      <td>17264</td>\n      <td>417432</td>\n    </tr>\n    <tr>\n      <th>22</th>\n      <td>Poland</td>\n      <td>6.2</td>\n      <td>426547.5</td>\n      <td>10865</td>\n      <td>38044565</td>\n    </tr>\n    <tr>\n      <th>23</th>\n      <td>Portugal</td>\n      <td>11.2</td>\n      <td>186480.5</td>\n      <td>10805</td>\n      <td>10562178</td>\n    </tr>\n    <tr>\n      <th>25</th>\n      <td>Slovakia</td>\n      <td>9.7</td>\n      <td>81226.1</td>\n      <td>10466</td>\n      <td>5397036</td>\n    </tr>\n    <tr>\n      <th>26</th>\n      <td>Slovenia</td>\n      <td>8.0</td>\n      <td>40357.2</td>\n      <td>15250</td>\n      <td>2050189</td>\n    </tr>\n    <tr>\n      <th>27</th>\n      <td>Spain</td>\n      <td>19.6</td>\n      <td>1118743.0</td>\n      <td>15347</td>\n      <td>46815910</td>\n    </tr>\n    <tr>\n      <th>31</th>\n      <td>United Kingdom</td>\n      <td>4.8</td>\n      <td>2403382.6</td>\n      <td>17296</td>\n      <td>63182180</td>\n    </tr>\n  </tbody>\n</table>\n</div>"
     },
     "metadata": {},
     "execution_count": 156
    }
   ],
   "source": [
    "# Create a bool series from the df that combines these two conditions\n",
    "income_query = (eur_data_final.median_income > 10_000) & (eur_data_final.median_income < 20_000)\n",
    "eur_data_final[income_query]"
   ]
  },
  {
   "cell_type": "code",
   "execution_count": 158,
   "metadata": {},
   "outputs": [
    {
     "output_type": "execute_result",
     "data": {
      "text/plain": [
       "           country  unemp_rate        gdp  median_income  total_pop\n",
       "4           Cyprus        13.0    18490.2          16173     840407\n",
       "5          Czechia         4.0   176370.1          12478   10436560\n",
       "7          Estonia         6.8    21682.6          11867    1294455\n",
       "8          Finland         8.8   216073.0          19997    5375276\n",
       "14         Ireland         8.4   273238.2          18286    4574888\n",
       "15           Italy        11.7  1689824.0          16237   59433744\n",
       "19           Malta         4.7    10344.1          17264     417432\n",
       "22          Poland         6.2   426547.5          10865   38044565\n",
       "23        Portugal        11.2   186480.5          10805   10562178\n",
       "25        Slovakia         9.7    81226.1          10466    5397036\n",
       "26        Slovenia         8.0    40357.2          15250    2050189\n",
       "27           Spain        19.6  1118743.0          15347   46815910\n",
       "31  United Kingdom         4.8  2403382.6          17296   63182180"
      ],
      "text/html": "<div>\n<style scoped>\n    .dataframe tbody tr th:only-of-type {\n        vertical-align: middle;\n    }\n\n    .dataframe tbody tr th {\n        vertical-align: top;\n    }\n\n    .dataframe thead th {\n        text-align: right;\n    }\n</style>\n<table border=\"1\" class=\"dataframe\">\n  <thead>\n    <tr style=\"text-align: right;\">\n      <th></th>\n      <th>country</th>\n      <th>unemp_rate</th>\n      <th>gdp</th>\n      <th>median_income</th>\n      <th>total_pop</th>\n    </tr>\n  </thead>\n  <tbody>\n    <tr>\n      <th>4</th>\n      <td>Cyprus</td>\n      <td>13.0</td>\n      <td>18490.2</td>\n      <td>16173</td>\n      <td>840407</td>\n    </tr>\n    <tr>\n      <th>5</th>\n      <td>Czechia</td>\n      <td>4.0</td>\n      <td>176370.1</td>\n      <td>12478</td>\n      <td>10436560</td>\n    </tr>\n    <tr>\n      <th>7</th>\n      <td>Estonia</td>\n      <td>6.8</td>\n      <td>21682.6</td>\n      <td>11867</td>\n      <td>1294455</td>\n    </tr>\n    <tr>\n      <th>8</th>\n      <td>Finland</td>\n      <td>8.8</td>\n      <td>216073.0</td>\n      <td>19997</td>\n      <td>5375276</td>\n    </tr>\n    <tr>\n      <th>14</th>\n      <td>Ireland</td>\n      <td>8.4</td>\n      <td>273238.2</td>\n      <td>18286</td>\n      <td>4574888</td>\n    </tr>\n    <tr>\n      <th>15</th>\n      <td>Italy</td>\n      <td>11.7</td>\n      <td>1689824.0</td>\n      <td>16237</td>\n      <td>59433744</td>\n    </tr>\n    <tr>\n      <th>19</th>\n      <td>Malta</td>\n      <td>4.7</td>\n      <td>10344.1</td>\n      <td>17264</td>\n      <td>417432</td>\n    </tr>\n    <tr>\n      <th>22</th>\n      <td>Poland</td>\n      <td>6.2</td>\n      <td>426547.5</td>\n      <td>10865</td>\n      <td>38044565</td>\n    </tr>\n    <tr>\n      <th>23</th>\n      <td>Portugal</td>\n      <td>11.2</td>\n      <td>186480.5</td>\n      <td>10805</td>\n      <td>10562178</td>\n    </tr>\n    <tr>\n      <th>25</th>\n      <td>Slovakia</td>\n      <td>9.7</td>\n      <td>81226.1</td>\n      <td>10466</td>\n      <td>5397036</td>\n    </tr>\n    <tr>\n      <th>26</th>\n      <td>Slovenia</td>\n      <td>8.0</td>\n      <td>40357.2</td>\n      <td>15250</td>\n      <td>2050189</td>\n    </tr>\n    <tr>\n      <th>27</th>\n      <td>Spain</td>\n      <td>19.6</td>\n      <td>1118743.0</td>\n      <td>15347</td>\n      <td>46815910</td>\n    </tr>\n    <tr>\n      <th>31</th>\n      <td>United Kingdom</td>\n      <td>4.8</td>\n      <td>2403382.6</td>\n      <td>17296</td>\n      <td>63182180</td>\n    </tr>\n  </tbody>\n</table>\n</div>"
     },
     "metadata": {},
     "execution_count": 158
    }
   ],
   "source": [
    "# Alternative, using .between()\n",
    "income_query_alt = eur_data_final.median_income.between(10_000, 20_000, inclusive=True)\n",
    "eur_data_final[income_query_alt]"
   ]
  },
  {
   "source": [
    "## 3.1 Selection\n",
    "Using .loc(), .iloc()"
   ],
   "cell_type": "markdown",
   "metadata": {}
  },
  {
   "cell_type": "code",
   "execution_count": 159,
   "metadata": {},
   "outputs": [],
   "source": [
    "# Data from the eur_data_final df, represented as a python dictionary\n",
    "countries_dict = {\n",
    "    15: {'country': 'Italy', \n",
    "         'unemp_rate': 11.7, \n",
    "         'gdp': 1689824.0, \n",
    "         'median_income': 16237, \n",
    "         'total_pop': 59433744\n",
    "        }\n",
    "}"
   ]
  },
  {
   "cell_type": "code",
   "execution_count": 160,
   "metadata": {},
   "outputs": [
    {
     "output_type": "execute_result",
     "data": {
      "text/plain": [
       "'Italy'"
      ]
     },
     "metadata": {},
     "execution_count": 160
    }
   ],
   "source": [
    "# With vanilla python, how do we get the word 'Italy' from a dictionary?\n",
    "countries_dict[15]['country']"
   ]
  },
  {
   "cell_type": "code",
   "execution_count": 161,
   "metadata": {},
   "outputs": [
    {
     "output_type": "execute_result",
     "data": {
      "text/plain": [
       "'Italy'"
      ]
     },
     "metadata": {},
     "execution_count": 161
    }
   ],
   "source": [
    "# How do we do this with a dataframe?\n",
    "eur_data_final.loc[15, 'country']"
   ]
  },
  {
   "cell_type": "code",
   "execution_count": 163,
   "metadata": {},
   "outputs": [
    {
     "output_type": "execute_result",
     "data": {
      "text/plain": [
       "country        Italy\n",
       "gdp        1689824.0\n",
       "Name: 15, dtype: object"
      ]
     },
     "metadata": {},
     "execution_count": 163
    }
   ],
   "source": [
    "# We can also get multiple columns\n",
    "eur_data_final.loc[15, ['country', 'gdp']]"
   ]
  },
  {
   "cell_type": "code",
   "execution_count": 164,
   "metadata": {},
   "outputs": [
    {
     "output_type": "execute_result",
     "data": {
      "text/plain": [
       "country           Hungary\n",
       "unemp_rate            5.1\n",
       "gdp              113903.8\n",
       "median_income        8267\n",
       "total_pop         9937628\n",
       "Name: 12, dtype: object"
      ]
     },
     "metadata": {},
     "execution_count": 164
    }
   ],
   "source": [
    "# Or an entire row/entry\n",
    "eur_data_final.loc[12]"
   ]
  },
  {
   "cell_type": "code",
   "execution_count": 165,
   "metadata": {},
   "outputs": [
    {
     "output_type": "execute_result",
     "data": {
      "text/plain": [
       "    country        gdp\n",
       "9    France  2228568.0\n",
       "10  Germany  3159750.0"
      ],
      "text/html": "<div>\n<style scoped>\n    .dataframe tbody tr th:only-of-type {\n        vertical-align: middle;\n    }\n\n    .dataframe tbody tr th {\n        vertical-align: top;\n    }\n\n    .dataframe thead th {\n        text-align: right;\n    }\n</style>\n<table border=\"1\" class=\"dataframe\">\n  <thead>\n    <tr style=\"text-align: right;\">\n      <th></th>\n      <th>country</th>\n      <th>gdp</th>\n    </tr>\n  </thead>\n  <tbody>\n    <tr>\n      <th>9</th>\n      <td>France</td>\n      <td>2228568.0</td>\n    </tr>\n    <tr>\n      <th>10</th>\n      <td>Germany</td>\n      <td>3159750.0</td>\n    </tr>\n  </tbody>\n</table>\n</div>"
     },
     "metadata": {},
     "execution_count": 165
    }
   ],
   "source": [
    "# Or multiple rows and columns\n",
    "eur_data_final.loc[[9,10], ['country','gdp']]"
   ]
  },
  {
   "cell_type": "code",
   "execution_count": 166,
   "metadata": {},
   "outputs": [
    {
     "output_type": "execute_result",
     "data": {
      "text/plain": [
       "    country        gdp\n",
       "9    France  2228568.0\n",
       "10  Germany  3159750.0\n",
       "11   Greece   176487.9\n",
       "12  Hungary   113903.8\n",
       "13  Iceland    18646.1\n",
       "14  Ireland   273238.2"
      ],
      "text/html": "<div>\n<style scoped>\n    .dataframe tbody tr th:only-of-type {\n        vertical-align: middle;\n    }\n\n    .dataframe tbody tr th {\n        vertical-align: top;\n    }\n\n    .dataframe thead th {\n        text-align: right;\n    }\n</style>\n<table border=\"1\" class=\"dataframe\">\n  <thead>\n    <tr style=\"text-align: right;\">\n      <th></th>\n      <th>country</th>\n      <th>gdp</th>\n    </tr>\n  </thead>\n  <tbody>\n    <tr>\n      <th>9</th>\n      <td>France</td>\n      <td>2228568.0</td>\n    </tr>\n    <tr>\n      <th>10</th>\n      <td>Germany</td>\n      <td>3159750.0</td>\n    </tr>\n    <tr>\n      <th>11</th>\n      <td>Greece</td>\n      <td>176487.9</td>\n    </tr>\n    <tr>\n      <th>12</th>\n      <td>Hungary</td>\n      <td>113903.8</td>\n    </tr>\n    <tr>\n      <th>13</th>\n      <td>Iceland</td>\n      <td>18646.1</td>\n    </tr>\n    <tr>\n      <th>14</th>\n      <td>Ireland</td>\n      <td>273238.2</td>\n    </tr>\n  </tbody>\n</table>\n</div>"
     },
     "metadata": {},
     "execution_count": 166
    }
   ],
   "source": [
    "# We can also use python's index slicing syntax\n",
    "eur_data_final.loc[9:14, ['country','gdp']]"
   ]
  },
  {
   "cell_type": "code",
   "execution_count": 167,
   "metadata": {},
   "outputs": [
    {
     "output_type": "execute_result",
     "data": {
      "text/plain": [
       "unemp_rate          8.0\n",
       "gdp             40357.2\n",
       "total_pop     2050189.0\n",
       "Name: Slovenia, dtype: float64"
      ]
     },
     "metadata": {},
     "execution_count": 167
    }
   ],
   "source": [
    "# Select by column value (Pandas is smart!)\n",
    "eur_data_country_index.loc['Slovenia']"
   ]
  },
  {
   "source": [
    "### Exercise - What countries have a higher unemployment rate than Slovenia and have a lowercase 't' in their name?"
   ],
   "cell_type": "markdown",
   "metadata": {}
  },
  {
   "cell_type": "code",
   "execution_count": 169,
   "metadata": {},
   "outputs": [
    {
     "output_type": "execute_result",
     "data": {
      "text/plain": [
       "     country  unemp_rate        gdp  median_income  total_pop\n",
       "3    Croatia        13.1    46639.5           8985    4284889\n",
       "15     Italy        11.7  1689824.0          16237   59433744\n",
       "16    Latvia         9.6    25037.7           9257    2070371\n",
       "23  Portugal        11.2   186480.5          10805   10562178"
      ],
      "text/html": "<div>\n<style scoped>\n    .dataframe tbody tr th:only-of-type {\n        vertical-align: middle;\n    }\n\n    .dataframe tbody tr th {\n        vertical-align: top;\n    }\n\n    .dataframe thead th {\n        text-align: right;\n    }\n</style>\n<table border=\"1\" class=\"dataframe\">\n  <thead>\n    <tr style=\"text-align: right;\">\n      <th></th>\n      <th>country</th>\n      <th>unemp_rate</th>\n      <th>gdp</th>\n      <th>median_income</th>\n      <th>total_pop</th>\n    </tr>\n  </thead>\n  <tbody>\n    <tr>\n      <th>3</th>\n      <td>Croatia</td>\n      <td>13.1</td>\n      <td>46639.5</td>\n      <td>8985</td>\n      <td>4284889</td>\n    </tr>\n    <tr>\n      <th>15</th>\n      <td>Italy</td>\n      <td>11.7</td>\n      <td>1689824.0</td>\n      <td>16237</td>\n      <td>59433744</td>\n    </tr>\n    <tr>\n      <th>16</th>\n      <td>Latvia</td>\n      <td>9.6</td>\n      <td>25037.7</td>\n      <td>9257</td>\n      <td>2070371</td>\n    </tr>\n    <tr>\n      <th>23</th>\n      <td>Portugal</td>\n      <td>11.2</td>\n      <td>186480.5</td>\n      <td>10805</td>\n      <td>10562178</td>\n    </tr>\n  </tbody>\n</table>\n</div>"
     },
     "metadata": {},
     "execution_count": 169
    }
   ],
   "source": [
    "# Select slovenia unemployment values\n",
    "slovenia_unemployment = eur_data_country_index.loc['Slovenia', 'unemp_rate']\n",
    "# Generate comparison query\n",
    "gt_slov = eur_data_final.unemp_rate > slovenia_unemployment\n",
    "# Generate 'contains' query\n",
    "t_names = eur_data_final.country.str.contains('t')\n",
    "# Make selection using queries\n",
    "eur_data_final[gt_slov & t_names]"
   ]
  },
  {
   "source": [
    "### Exercise - Generate a correlation matrix for the various columns and plot them using matplotlib"
   ],
   "cell_type": "markdown",
   "metadata": {}
  },
  {
   "cell_type": "code",
   "execution_count": 212,
   "metadata": {},
   "outputs": [
    {
     "output_type": "display_data",
     "data": {
      "text/plain": "<Figure size 432x288 with 2 Axes>",
      "image/svg+xml": "<?xml version=\"1.0\" encoding=\"utf-8\" standalone=\"no\"?>\n<!DOCTYPE svg PUBLIC \"-//W3C//DTD SVG 1.1//EN\"\n  \"http://www.w3.org/Graphics/SVG/1.1/DTD/svg11.dtd\">\n<!-- Created with matplotlib (https://matplotlib.org/) -->\n<svg height=\"279.85pt\" version=\"1.1\" viewBox=\"0 0 407.77875 279.85\" width=\"407.77875pt\" xmlns=\"http://www.w3.org/2000/svg\" xmlns:xlink=\"http://www.w3.org/1999/xlink\">\n <metadata>\n  <rdf:RDF xmlns:cc=\"http://creativecommons.org/ns#\" xmlns:dc=\"http://purl.org/dc/elements/1.1/\" xmlns:rdf=\"http://www.w3.org/1999/02/22-rdf-syntax-ns#\">\n   <cc:Work>\n    <dc:type rdf:resource=\"http://purl.org/dc/dcmitype/StillImage\"/>\n    <dc:date>2021-02-01T13:20:18.681183</dc:date>\n    <dc:format>image/svg+xml</dc:format>\n    <dc:creator>\n     <cc:Agent>\n      <dc:title>Matplotlib v3.3.3, https://matplotlib.org/</dc:title>\n     </cc:Agent>\n    </dc:creator>\n   </cc:Work>\n  </rdf:RDF>\n </metadata>\n <defs>\n  <style type=\"text/css\">*{stroke-linecap:butt;stroke-linejoin:round;}</style>\n </defs>\n <g id=\"figure_1\">\n  <g id=\"patch_1\">\n   <path d=\"M -0 279.85 \nL 407.77875 279.85 \nL 407.77875 0 \nL -0 0 \nz\n\" style=\"fill:none;\"/>\n  </g>\n  <g id=\"axes_1\">\n   <g id=\"patch_2\">\n    <path d=\"M 93.3125 269.15 \nL 338.30625 269.15 \nL 338.30625 24.15625 \nL 93.3125 24.15625 \nz\n\" style=\"fill:#ffffff;\"/>\n   </g>\n   <g clip-path=\"url(#pf46caf062b)\">\n    <image height=\"245\" id=\"imagea2a0d5b824\" transform=\"scale(1 -1)translate(0 -245)\" width=\"245\" x=\"93.3125\" xlink:href=\"data:image/png;base64,\niVBORw0KGgoAAAANSUhEUgAAAPUAAAD1CAYAAACIsbNlAAADZklEQVR4nO3VoU4VcByGYY9j40YsdAmYDDaSm1nTGYNOY5NAkllhXgSR5CVwAXSK1Upwx5tg/9/28jxX8JV33+b9t5+7N6/M3dX19ITlPl+eT08Y8XB1Oz1hubfTA4CXJWqIETXEiBpiRA0xooYYUUOMqCFG1BAjaogRNcSIGmJEDTGihhhRQ4yoIUbUECNqiBE1xIgaYkQNMaKGGFFDjKghRtQQI2qIETXEiBpiRA0xooYYUUOMqCFG1BAjaogRNcSIGmJEDTGihhhRQ4yoIUbUECNqiBE1xIgaYkQNMaKGGFFDjKghRtQQI2qIETXEiBpiRA0xooYYUUOMqCFG1BAjaogRNcSIGmI2nzZfdtMjVnv6/mF6wnKPJzfTE0YcXpxOT1jOU0OMqCFG1BAjaogRNcSIGmJEDTGihhhRQ4yoIUbUECNqiBE1xIgaYkQNMaKGGFFDjKghRtQQI2qIETXEiBpiRA0xooYYUUOMqCFG1BAjaogRNcSIGmJEDTGihhhRQ4yoIUbUECNqiBE1xIgaYkQNMaKGGFFDjKghRtQQI2qIETXEiBpiRA0xooYYUUOMqCFG1BAjaogRNcSIGmJEDTGihhhRQ4yoIUbUECNqiBE1xOw9Hx9Ob1ju8eRmesJyB7/OpieM+H35Y3rCcp4aYkQNMaKGGFFDjKghRtQQI2qIETXEiBpiRA0xooYYUUOMqCFG1BAjaogRNcSIGmJEDTGihhhRQ4yoIUbUECNqiBE1xIgaYkQNMaKGGFFDjKghRtQQI2qIETXEiBpiRA0xooYYUUOMqCFG1BAjaogRNcSIGmJEDTGihhhRQ4yoIUbUECNqiBE1xIgaYkQNMaKGGFFDjKghRtQQI2qIETXEiBpiRA0xooYYUUPM5t+fd7vpEat93G6nJyy3f/8wPWHE369H0xOW89QQI2qIETXEiBpiRA0xooYYUUOMqCFG1BAjaogRNcSIGmJEDTGihhhRQ4yoIUbUECNqiBE1xIgaYkQNMaKGGFFDjKghRtQQI2qIETXEiBpiRA0xooYYUUOMqCFG1BAjaogRNcSIGmJEDTGihhhRQ4yoIUbUECNqiBE1xIgaYkQNMaKGGFFDjKghRtQQI2qIETXEiBpiRA0xooYYUUOMqCFG1BAjaogRNcSIGmL+A4UpHG9WFn9CAAAAAElFTkSuQmCC\" y=\"-24.15\"/>\n   </g>\n   <g id=\"matplotlib.axis_1\">\n    <g id=\"xtick_1\">\n     <g id=\"line2d_1\">\n      <defs>\n       <path d=\"M 0 0 \nL 0 3.5 \n\" id=\"m4cf6bc3d21\" style=\"stroke:#000000;stroke-width:0.8;\"/>\n      </defs>\n      <g>\n       <use style=\"stroke:#000000;stroke-width:0.8;\" x=\"123.936719\" xlink:href=\"#m4cf6bc3d21\" y=\"269.15\"/>\n      </g>\n     </g>\n     <g id=\"line2d_2\">\n      <defs>\n       <path d=\"M 0 0 \nL 0 -3.5 \n\" id=\"mf6b0d6f538\" style=\"stroke:#000000;stroke-width:0.8;\"/>\n      </defs>\n      <g>\n       <use style=\"stroke:#000000;stroke-width:0.8;\" x=\"123.936719\" xlink:href=\"#mf6b0d6f538\" y=\"24.15625\"/>\n      </g>\n     </g>\n     <g id=\"text_1\">\n      <!-- unemp_rate -->\n      <g transform=\"translate(93.821875 14.798438)scale(0.1 -0.1)\">\n       <defs>\n        <path d=\"M 8.5 21.578125 \nL 8.5 54.6875 \nL 17.484375 54.6875 \nL 17.484375 21.921875 \nQ 17.484375 14.15625 20.5 10.265625 \nQ 23.53125 6.390625 29.59375 6.390625 \nQ 36.859375 6.390625 41.078125 11.03125 \nQ 45.3125 15.671875 45.3125 23.6875 \nL 45.3125 54.6875 \nL 54.296875 54.6875 \nL 54.296875 0 \nL 45.3125 0 \nL 45.3125 8.40625 \nQ 42.046875 3.421875 37.71875 1 \nQ 33.40625 -1.421875 27.6875 -1.421875 \nQ 18.265625 -1.421875 13.375 4.4375 \nQ 8.5 10.296875 8.5 21.578125 \nz\nM 31.109375 56 \nz\n\" id=\"DejaVuSans-117\"/>\n        <path d=\"M 54.890625 33.015625 \nL 54.890625 0 \nL 45.90625 0 \nL 45.90625 32.71875 \nQ 45.90625 40.484375 42.875 44.328125 \nQ 39.84375 48.1875 33.796875 48.1875 \nQ 26.515625 48.1875 22.3125 43.546875 \nQ 18.109375 38.921875 18.109375 30.90625 \nL 18.109375 0 \nL 9.078125 0 \nL 9.078125 54.6875 \nL 18.109375 54.6875 \nL 18.109375 46.1875 \nQ 21.34375 51.125 25.703125 53.5625 \nQ 30.078125 56 35.796875 56 \nQ 45.21875 56 50.046875 50.171875 \nQ 54.890625 44.34375 54.890625 33.015625 \nz\n\" id=\"DejaVuSans-110\"/>\n        <path d=\"M 56.203125 29.59375 \nL 56.203125 25.203125 \nL 14.890625 25.203125 \nQ 15.484375 15.921875 20.484375 11.0625 \nQ 25.484375 6.203125 34.421875 6.203125 \nQ 39.59375 6.203125 44.453125 7.46875 \nQ 49.3125 8.734375 54.109375 11.28125 \nL 54.109375 2.78125 \nQ 49.265625 0.734375 44.1875 -0.34375 \nQ 39.109375 -1.421875 33.890625 -1.421875 \nQ 20.796875 -1.421875 13.15625 6.1875 \nQ 5.515625 13.8125 5.515625 26.8125 \nQ 5.515625 40.234375 12.765625 48.109375 \nQ 20.015625 56 32.328125 56 \nQ 43.359375 56 49.78125 48.890625 \nQ 56.203125 41.796875 56.203125 29.59375 \nz\nM 47.21875 32.234375 \nQ 47.125 39.59375 43.09375 43.984375 \nQ 39.0625 48.390625 32.421875 48.390625 \nQ 24.90625 48.390625 20.390625 44.140625 \nQ 15.875 39.890625 15.1875 32.171875 \nz\n\" id=\"DejaVuSans-101\"/>\n        <path d=\"M 52 44.1875 \nQ 55.375 50.25 60.0625 53.125 \nQ 64.75 56 71.09375 56 \nQ 79.640625 56 84.28125 50.015625 \nQ 88.921875 44.046875 88.921875 33.015625 \nL 88.921875 0 \nL 79.890625 0 \nL 79.890625 32.71875 \nQ 79.890625 40.578125 77.09375 44.375 \nQ 74.3125 48.1875 68.609375 48.1875 \nQ 61.625 48.1875 57.5625 43.546875 \nQ 53.515625 38.921875 53.515625 30.90625 \nL 53.515625 0 \nL 44.484375 0 \nL 44.484375 32.71875 \nQ 44.484375 40.625 41.703125 44.40625 \nQ 38.921875 48.1875 33.109375 48.1875 \nQ 26.21875 48.1875 22.15625 43.53125 \nQ 18.109375 38.875 18.109375 30.90625 \nL 18.109375 0 \nL 9.078125 0 \nL 9.078125 54.6875 \nL 18.109375 54.6875 \nL 18.109375 46.1875 \nQ 21.1875 51.21875 25.484375 53.609375 \nQ 29.78125 56 35.6875 56 \nQ 41.65625 56 45.828125 52.96875 \nQ 50 49.953125 52 44.1875 \nz\n\" id=\"DejaVuSans-109\"/>\n        <path d=\"M 18.109375 8.203125 \nL 18.109375 -20.796875 \nL 9.078125 -20.796875 \nL 9.078125 54.6875 \nL 18.109375 54.6875 \nL 18.109375 46.390625 \nQ 20.953125 51.265625 25.265625 53.625 \nQ 29.59375 56 35.59375 56 \nQ 45.5625 56 51.78125 48.09375 \nQ 58.015625 40.1875 58.015625 27.296875 \nQ 58.015625 14.40625 51.78125 6.484375 \nQ 45.5625 -1.421875 35.59375 -1.421875 \nQ 29.59375 -1.421875 25.265625 0.953125 \nQ 20.953125 3.328125 18.109375 8.203125 \nz\nM 48.6875 27.296875 \nQ 48.6875 37.203125 44.609375 42.84375 \nQ 40.53125 48.484375 33.40625 48.484375 \nQ 26.265625 48.484375 22.1875 42.84375 \nQ 18.109375 37.203125 18.109375 27.296875 \nQ 18.109375 17.390625 22.1875 11.75 \nQ 26.265625 6.109375 33.40625 6.109375 \nQ 40.53125 6.109375 44.609375 11.75 \nQ 48.6875 17.390625 48.6875 27.296875 \nz\n\" id=\"DejaVuSans-112\"/>\n        <path d=\"M 50.984375 -16.609375 \nL 50.984375 -23.578125 \nL -0.984375 -23.578125 \nL -0.984375 -16.609375 \nz\n\" id=\"DejaVuSans-95\"/>\n        <path d=\"M 41.109375 46.296875 \nQ 39.59375 47.171875 37.8125 47.578125 \nQ 36.03125 48 33.890625 48 \nQ 26.265625 48 22.1875 43.046875 \nQ 18.109375 38.09375 18.109375 28.8125 \nL 18.109375 0 \nL 9.078125 0 \nL 9.078125 54.6875 \nL 18.109375 54.6875 \nL 18.109375 46.1875 \nQ 20.953125 51.171875 25.484375 53.578125 \nQ 30.03125 56 36.53125 56 \nQ 37.453125 56 38.578125 55.875 \nQ 39.703125 55.765625 41.0625 55.515625 \nz\n\" id=\"DejaVuSans-114\"/>\n        <path d=\"M 34.28125 27.484375 \nQ 23.390625 27.484375 19.1875 25 \nQ 14.984375 22.515625 14.984375 16.5 \nQ 14.984375 11.71875 18.140625 8.90625 \nQ 21.296875 6.109375 26.703125 6.109375 \nQ 34.1875 6.109375 38.703125 11.40625 \nQ 43.21875 16.703125 43.21875 25.484375 \nL 43.21875 27.484375 \nz\nM 52.203125 31.203125 \nL 52.203125 0 \nL 43.21875 0 \nL 43.21875 8.296875 \nQ 40.140625 3.328125 35.546875 0.953125 \nQ 30.953125 -1.421875 24.3125 -1.421875 \nQ 15.921875 -1.421875 10.953125 3.296875 \nQ 6 8.015625 6 15.921875 \nQ 6 25.140625 12.171875 29.828125 \nQ 18.359375 34.515625 30.609375 34.515625 \nL 43.21875 34.515625 \nL 43.21875 35.40625 \nQ 43.21875 41.609375 39.140625 45 \nQ 35.0625 48.390625 27.6875 48.390625 \nQ 23 48.390625 18.546875 47.265625 \nQ 14.109375 46.140625 10.015625 43.890625 \nL 10.015625 52.203125 \nQ 14.9375 54.109375 19.578125 55.046875 \nQ 24.21875 56 28.609375 56 \nQ 40.484375 56 46.34375 49.84375 \nQ 52.203125 43.703125 52.203125 31.203125 \nz\n\" id=\"DejaVuSans-97\"/>\n        <path d=\"M 18.3125 70.21875 \nL 18.3125 54.6875 \nL 36.8125 54.6875 \nL 36.8125 47.703125 \nL 18.3125 47.703125 \nL 18.3125 18.015625 \nQ 18.3125 11.328125 20.140625 9.421875 \nQ 21.96875 7.515625 27.59375 7.515625 \nL 36.8125 7.515625 \nL 36.8125 0 \nL 27.59375 0 \nQ 17.1875 0 13.234375 3.875 \nQ 9.28125 7.765625 9.28125 18.015625 \nL 9.28125 47.703125 \nL 2.6875 47.703125 \nL 2.6875 54.6875 \nL 9.28125 54.6875 \nL 9.28125 70.21875 \nz\n\" id=\"DejaVuSans-116\"/>\n       </defs>\n       <use xlink:href=\"#DejaVuSans-117\"/>\n       <use x=\"63.378906\" xlink:href=\"#DejaVuSans-110\"/>\n       <use x=\"126.757812\" xlink:href=\"#DejaVuSans-101\"/>\n       <use x=\"188.28125\" xlink:href=\"#DejaVuSans-109\"/>\n       <use x=\"285.693359\" xlink:href=\"#DejaVuSans-112\"/>\n       <use x=\"349.169922\" xlink:href=\"#DejaVuSans-95\"/>\n       <use x=\"399.169922\" xlink:href=\"#DejaVuSans-114\"/>\n       <use x=\"440.283203\" xlink:href=\"#DejaVuSans-97\"/>\n       <use x=\"501.5625\" xlink:href=\"#DejaVuSans-116\"/>\n       <use x=\"540.771484\" xlink:href=\"#DejaVuSans-101\"/>\n      </g>\n     </g>\n    </g>\n    <g id=\"xtick_2\">\n     <g id=\"line2d_3\">\n      <g>\n       <use style=\"stroke:#000000;stroke-width:0.8;\" x=\"185.185156\" xlink:href=\"#m4cf6bc3d21\" y=\"269.15\"/>\n      </g>\n     </g>\n     <g id=\"line2d_4\">\n      <g>\n       <use style=\"stroke:#000000;stroke-width:0.8;\" x=\"185.185156\" xlink:href=\"#mf6b0d6f538\" y=\"24.15625\"/>\n      </g>\n     </g>\n     <g id=\"text_2\">\n      <!-- gdp -->\n      <g transform=\"translate(175.6625 15.076563)scale(0.1 -0.1)\">\n       <defs>\n        <path d=\"M 45.40625 27.984375 \nQ 45.40625 37.75 41.375 43.109375 \nQ 37.359375 48.484375 30.078125 48.484375 \nQ 22.859375 48.484375 18.828125 43.109375 \nQ 14.796875 37.75 14.796875 27.984375 \nQ 14.796875 18.265625 18.828125 12.890625 \nQ 22.859375 7.515625 30.078125 7.515625 \nQ 37.359375 7.515625 41.375 12.890625 \nQ 45.40625 18.265625 45.40625 27.984375 \nz\nM 54.390625 6.78125 \nQ 54.390625 -7.171875 48.1875 -13.984375 \nQ 42 -20.796875 29.203125 -20.796875 \nQ 24.46875 -20.796875 20.265625 -20.09375 \nQ 16.0625 -19.390625 12.109375 -17.921875 \nL 12.109375 -9.1875 \nQ 16.0625 -11.328125 19.921875 -12.34375 \nQ 23.78125 -13.375 27.78125 -13.375 \nQ 36.625 -13.375 41.015625 -8.765625 \nQ 45.40625 -4.15625 45.40625 5.171875 \nL 45.40625 9.625 \nQ 42.625 4.78125 38.28125 2.390625 \nQ 33.9375 0 27.875 0 \nQ 17.828125 0 11.671875 7.65625 \nQ 5.515625 15.328125 5.515625 27.984375 \nQ 5.515625 40.671875 11.671875 48.328125 \nQ 17.828125 56 27.875 56 \nQ 33.9375 56 38.28125 53.609375 \nQ 42.625 51.21875 45.40625 46.390625 \nL 45.40625 54.6875 \nL 54.390625 54.6875 \nz\n\" id=\"DejaVuSans-103\"/>\n        <path d=\"M 45.40625 46.390625 \nL 45.40625 75.984375 \nL 54.390625 75.984375 \nL 54.390625 0 \nL 45.40625 0 \nL 45.40625 8.203125 \nQ 42.578125 3.328125 38.25 0.953125 \nQ 33.9375 -1.421875 27.875 -1.421875 \nQ 17.96875 -1.421875 11.734375 6.484375 \nQ 5.515625 14.40625 5.515625 27.296875 \nQ 5.515625 40.1875 11.734375 48.09375 \nQ 17.96875 56 27.875 56 \nQ 33.9375 56 38.25 53.625 \nQ 42.578125 51.265625 45.40625 46.390625 \nz\nM 14.796875 27.296875 \nQ 14.796875 17.390625 18.875 11.75 \nQ 22.953125 6.109375 30.078125 6.109375 \nQ 37.203125 6.109375 41.296875 11.75 \nQ 45.40625 17.390625 45.40625 27.296875 \nQ 45.40625 37.203125 41.296875 42.84375 \nQ 37.203125 48.484375 30.078125 48.484375 \nQ 22.953125 48.484375 18.875 42.84375 \nQ 14.796875 37.203125 14.796875 27.296875 \nz\n\" id=\"DejaVuSans-100\"/>\n       </defs>\n       <use xlink:href=\"#DejaVuSans-103\"/>\n       <use x=\"63.476562\" xlink:href=\"#DejaVuSans-100\"/>\n       <use x=\"126.953125\" xlink:href=\"#DejaVuSans-112\"/>\n      </g>\n     </g>\n    </g>\n    <g id=\"xtick_3\">\n     <g id=\"line2d_5\">\n      <g>\n       <use style=\"stroke:#000000;stroke-width:0.8;\" x=\"246.433594\" xlink:href=\"#m4cf6bc3d21\" y=\"269.15\"/>\n      </g>\n     </g>\n     <g id=\"line2d_6\">\n      <g>\n       <use style=\"stroke:#000000;stroke-width:0.8;\" x=\"246.433594\" xlink:href=\"#mf6b0d6f538\" y=\"24.15625\"/>\n      </g>\n     </g>\n     <g id=\"text_3\">\n      <!-- median_income -->\n      <g transform=\"translate(206.877344 14.798438)scale(0.1 -0.1)\">\n       <defs>\n        <path d=\"M 9.421875 54.6875 \nL 18.40625 54.6875 \nL 18.40625 0 \nL 9.421875 0 \nz\nM 9.421875 75.984375 \nL 18.40625 75.984375 \nL 18.40625 64.59375 \nL 9.421875 64.59375 \nz\n\" id=\"DejaVuSans-105\"/>\n        <path d=\"M 48.78125 52.59375 \nL 48.78125 44.1875 \nQ 44.96875 46.296875 41.140625 47.34375 \nQ 37.3125 48.390625 33.40625 48.390625 \nQ 24.65625 48.390625 19.8125 42.84375 \nQ 14.984375 37.3125 14.984375 27.296875 \nQ 14.984375 17.28125 19.8125 11.734375 \nQ 24.65625 6.203125 33.40625 6.203125 \nQ 37.3125 6.203125 41.140625 7.25 \nQ 44.96875 8.296875 48.78125 10.40625 \nL 48.78125 2.09375 \nQ 45.015625 0.34375 40.984375 -0.53125 \nQ 36.96875 -1.421875 32.421875 -1.421875 \nQ 20.0625 -1.421875 12.78125 6.34375 \nQ 5.515625 14.109375 5.515625 27.296875 \nQ 5.515625 40.671875 12.859375 48.328125 \nQ 20.21875 56 33.015625 56 \nQ 37.15625 56 41.109375 55.140625 \nQ 45.0625 54.296875 48.78125 52.59375 \nz\n\" id=\"DejaVuSans-99\"/>\n        <path d=\"M 30.609375 48.390625 \nQ 23.390625 48.390625 19.1875 42.75 \nQ 14.984375 37.109375 14.984375 27.296875 \nQ 14.984375 17.484375 19.15625 11.84375 \nQ 23.34375 6.203125 30.609375 6.203125 \nQ 37.796875 6.203125 41.984375 11.859375 \nQ 46.1875 17.53125 46.1875 27.296875 \nQ 46.1875 37.015625 41.984375 42.703125 \nQ 37.796875 48.390625 30.609375 48.390625 \nz\nM 30.609375 56 \nQ 42.328125 56 49.015625 48.375 \nQ 55.71875 40.765625 55.71875 27.296875 \nQ 55.71875 13.875 49.015625 6.21875 \nQ 42.328125 -1.421875 30.609375 -1.421875 \nQ 18.84375 -1.421875 12.171875 6.21875 \nQ 5.515625 13.875 5.515625 27.296875 \nQ 5.515625 40.765625 12.171875 48.375 \nQ 18.84375 56 30.609375 56 \nz\n\" id=\"DejaVuSans-111\"/>\n       </defs>\n       <use xlink:href=\"#DejaVuSans-109\"/>\n       <use x=\"97.412109\" xlink:href=\"#DejaVuSans-101\"/>\n       <use x=\"158.935547\" xlink:href=\"#DejaVuSans-100\"/>\n       <use x=\"222.412109\" xlink:href=\"#DejaVuSans-105\"/>\n       <use x=\"250.195312\" xlink:href=\"#DejaVuSans-97\"/>\n       <use x=\"311.474609\" xlink:href=\"#DejaVuSans-110\"/>\n       <use x=\"374.853516\" xlink:href=\"#DejaVuSans-95\"/>\n       <use x=\"424.853516\" xlink:href=\"#DejaVuSans-105\"/>\n       <use x=\"452.636719\" xlink:href=\"#DejaVuSans-110\"/>\n       <use x=\"516.015625\" xlink:href=\"#DejaVuSans-99\"/>\n       <use x=\"570.996094\" xlink:href=\"#DejaVuSans-111\"/>\n       <use x=\"632.177734\" xlink:href=\"#DejaVuSans-109\"/>\n       <use x=\"729.589844\" xlink:href=\"#DejaVuSans-101\"/>\n      </g>\n     </g>\n    </g>\n    <g id=\"xtick_4\">\n     <g id=\"line2d_7\">\n      <g>\n       <use style=\"stroke:#000000;stroke-width:0.8;\" x=\"307.682031\" xlink:href=\"#m4cf6bc3d21\" y=\"269.15\"/>\n      </g>\n     </g>\n     <g id=\"line2d_8\">\n      <g>\n       <use style=\"stroke:#000000;stroke-width:0.8;\" x=\"307.682031\" xlink:href=\"#mf6b0d6f538\" y=\"24.15625\"/>\n      </g>\n     </g>\n     <g id=\"text_4\">\n      <!-- total_pop -->\n      <g transform=\"translate(284.341406 14.798438)scale(0.1 -0.1)\">\n       <defs>\n        <path d=\"M 9.421875 75.984375 \nL 18.40625 75.984375 \nL 18.40625 0 \nL 9.421875 0 \nz\n\" id=\"DejaVuSans-108\"/>\n       </defs>\n       <use xlink:href=\"#DejaVuSans-116\"/>\n       <use x=\"39.208984\" xlink:href=\"#DejaVuSans-111\"/>\n       <use x=\"100.390625\" xlink:href=\"#DejaVuSans-116\"/>\n       <use x=\"139.599609\" xlink:href=\"#DejaVuSans-97\"/>\n       <use x=\"200.878906\" xlink:href=\"#DejaVuSans-108\"/>\n       <use x=\"228.662109\" xlink:href=\"#DejaVuSans-95\"/>\n       <use x=\"278.662109\" xlink:href=\"#DejaVuSans-112\"/>\n       <use x=\"342.138672\" xlink:href=\"#DejaVuSans-111\"/>\n       <use x=\"403.320312\" xlink:href=\"#DejaVuSans-112\"/>\n      </g>\n     </g>\n    </g>\n   </g>\n   <g id=\"matplotlib.axis_2\">\n    <g id=\"ytick_1\">\n     <g id=\"line2d_9\">\n      <defs>\n       <path d=\"M 0 0 \nL -3.5 0 \n\" id=\"m7b8a25ad1d\" style=\"stroke:#000000;stroke-width:0.8;\"/>\n      </defs>\n      <g>\n       <use style=\"stroke:#000000;stroke-width:0.8;\" x=\"93.3125\" xlink:href=\"#m7b8a25ad1d\" y=\"54.780469\"/>\n      </g>\n     </g>\n     <g id=\"text_5\">\n      <!-- unemp_rate -->\n      <g transform=\"translate(26.082813 58.440625)scale(0.1 -0.1)\">\n       <use xlink:href=\"#DejaVuSans-117\"/>\n       <use x=\"63.378906\" xlink:href=\"#DejaVuSans-110\"/>\n       <use x=\"126.757812\" xlink:href=\"#DejaVuSans-101\"/>\n       <use x=\"188.28125\" xlink:href=\"#DejaVuSans-109\"/>\n       <use x=\"285.693359\" xlink:href=\"#DejaVuSans-112\"/>\n       <use x=\"349.169922\" xlink:href=\"#DejaVuSans-95\"/>\n       <use x=\"399.169922\" xlink:href=\"#DejaVuSans-114\"/>\n       <use x=\"440.283203\" xlink:href=\"#DejaVuSans-97\"/>\n       <use x=\"501.5625\" xlink:href=\"#DejaVuSans-116\"/>\n       <use x=\"540.771484\" xlink:href=\"#DejaVuSans-101\"/>\n      </g>\n     </g>\n    </g>\n    <g id=\"ytick_2\">\n     <g id=\"line2d_10\">\n      <g>\n       <use style=\"stroke:#000000;stroke-width:0.8;\" x=\"93.3125\" xlink:href=\"#m7b8a25ad1d\" y=\"116.028906\"/>\n      </g>\n     </g>\n     <g id=\"text_6\">\n      <!-- gdp -->\n      <g transform=\"translate(67.267188 119.828125)scale(0.1 -0.1)\">\n       <use xlink:href=\"#DejaVuSans-103\"/>\n       <use x=\"63.476562\" xlink:href=\"#DejaVuSans-100\"/>\n       <use x=\"126.953125\" xlink:href=\"#DejaVuSans-112\"/>\n      </g>\n     </g>\n    </g>\n    <g id=\"ytick_3\">\n     <g id=\"line2d_11\">\n      <g>\n       <use style=\"stroke:#000000;stroke-width:0.8;\" x=\"93.3125\" xlink:href=\"#m7b8a25ad1d\" y=\"177.277344\"/>\n      </g>\n     </g>\n     <g id=\"text_7\">\n      <!-- median_income -->\n      <g transform=\"translate(7.2 181.076563)scale(0.1 -0.1)\">\n       <use xlink:href=\"#DejaVuSans-109\"/>\n       <use x=\"97.412109\" xlink:href=\"#DejaVuSans-101\"/>\n       <use x=\"158.935547\" xlink:href=\"#DejaVuSans-100\"/>\n       <use x=\"222.412109\" xlink:href=\"#DejaVuSans-105\"/>\n       <use x=\"250.195312\" xlink:href=\"#DejaVuSans-97\"/>\n       <use x=\"311.474609\" xlink:href=\"#DejaVuSans-110\"/>\n       <use x=\"374.853516\" xlink:href=\"#DejaVuSans-95\"/>\n       <use x=\"424.853516\" xlink:href=\"#DejaVuSans-105\"/>\n       <use x=\"452.636719\" xlink:href=\"#DejaVuSans-110\"/>\n       <use x=\"516.015625\" xlink:href=\"#DejaVuSans-99\"/>\n       <use x=\"570.996094\" xlink:href=\"#DejaVuSans-111\"/>\n       <use x=\"632.177734\" xlink:href=\"#DejaVuSans-109\"/>\n       <use x=\"729.589844\" xlink:href=\"#DejaVuSans-101\"/>\n      </g>\n     </g>\n    </g>\n    <g id=\"ytick_4\">\n     <g id=\"line2d_12\">\n      <g>\n       <use style=\"stroke:#000000;stroke-width:0.8;\" x=\"93.3125\" xlink:href=\"#m7b8a25ad1d\" y=\"238.525781\"/>\n      </g>\n     </g>\n     <g id=\"text_8\">\n      <!-- total_pop -->\n      <g transform=\"translate(39.63125 242.325)scale(0.1 -0.1)\">\n       <use xlink:href=\"#DejaVuSans-116\"/>\n       <use x=\"39.208984\" xlink:href=\"#DejaVuSans-111\"/>\n       <use x=\"100.390625\" xlink:href=\"#DejaVuSans-116\"/>\n       <use x=\"139.599609\" xlink:href=\"#DejaVuSans-97\"/>\n       <use x=\"200.878906\" xlink:href=\"#DejaVuSans-108\"/>\n       <use x=\"228.662109\" xlink:href=\"#DejaVuSans-95\"/>\n       <use x=\"278.662109\" xlink:href=\"#DejaVuSans-112\"/>\n       <use x=\"342.138672\" xlink:href=\"#DejaVuSans-111\"/>\n       <use x=\"403.320312\" xlink:href=\"#DejaVuSans-112\"/>\n      </g>\n     </g>\n    </g>\n   </g>\n   <g id=\"patch_3\">\n    <path d=\"M 93.3125 269.15 \nL 93.3125 24.15625 \n\" style=\"fill:none;stroke:#000000;stroke-linecap:square;stroke-linejoin:miter;stroke-width:0.8;\"/>\n   </g>\n   <g id=\"patch_4\">\n    <path d=\"M 338.30625 269.15 \nL 338.30625 24.15625 \n\" style=\"fill:none;stroke:#000000;stroke-linecap:square;stroke-linejoin:miter;stroke-width:0.8;\"/>\n   </g>\n   <g id=\"patch_5\">\n    <path d=\"M 93.3125 269.15 \nL 338.30625 269.15 \n\" style=\"fill:none;stroke:#000000;stroke-linecap:square;stroke-linejoin:miter;stroke-width:0.8;\"/>\n   </g>\n   <g id=\"patch_6\">\n    <path d=\"M 93.3125 24.15625 \nL 338.30625 24.15625 \n\" style=\"fill:none;stroke:#000000;stroke-linecap:square;stroke-linejoin:miter;stroke-width:0.8;\"/>\n   </g>\n  </g>\n  <g id=\"axes_2\">\n   <g id=\"patch_7\">\n    <path clip-path=\"url(#pcd43ee179e)\" d=\"M 357.04625 269.15 \nL 357.04625 268.192993 \nL 357.04625 25.113257 \nL 357.04625 24.15625 \nL 369.295938 24.15625 \nL 369.295938 25.113257 \nL 369.295938 268.192993 \nL 369.295938 269.15 \nz\n\" style=\"fill:#ffffff;stroke:#ffffff;stroke-linejoin:miter;stroke-width:0.01;\"/>\n   </g>\n   <image height=\"245\" id=\"image8fd655a61e\" transform=\"scale(1 -1)translate(0 -245)\" width=\"12\" x=\"357\" xlink:href=\"data:image/png;base64,\niVBORw0KGgoAAAANSUhEUgAAAAwAAAD1CAYAAABk6BQ2AAABXUlEQVR4nO2Z0Q3CMAxEHSdsxgzsvwiEFXiWzjrS8h3r3fkctyrjma8d4LdGDnI+VoxkBXpCcAIsGEklUUI0EKhpvxxiTjVBX6DvkmFwB7R1c0novGVbTzC9p1+X2PmKJHkOW+4Bd0k/rfqk9W0tEGgBXcZ6SZiw+QOFEg5IurBmKOGELt2EnwiGN05dgC/QCUkbSkKfTUoER9NXTNpQEifYbQ0o6E5aRYjBVtk1c/BrK79AhXcN6KGjrbhA7aEwfGpJ8MW4QxIvCH2XTiDAApw09pDyrYElQUCFwAvQ+VjZIOn/PSTdGo4e/AiFtqolrfyICdg0JxgWNJg+ITjoYTZ4ULd1GkrCW2O8ISH0HiiB5sAJeLzlo9FB0F8gvDX8RoN7UHdJn/QDbw398MmT5jdOPt6FJSC/og2S9M9pdL40GpTAJcE/gwuSIOEBv9GupB6wpGyQhAmsAH/3/gKCzonUYBrUgwAAAABJRU5ErkJggg==\" y=\"-23\"/>\n   <g id=\"matplotlib.axis_3\"/>\n   <g id=\"matplotlib.axis_4\">\n    <g id=\"ytick_5\">\n     <g id=\"line2d_13\">\n      <defs>\n       <path d=\"M 0 0 \nL 3.5 0 \n\" id=\"m8411324746\" style=\"stroke:#000000;stroke-width:0.8;\"/>\n      </defs>\n      <g>\n       <use style=\"stroke:#000000;stroke-width:0.8;\" x=\"369.295938\" xlink:href=\"#m8411324746\" y=\"241.986417\"/>\n      </g>\n     </g>\n     <g id=\"text_9\">\n      <!-- −0.2 -->\n      <g transform=\"translate(376.295938 245.785636)scale(0.1 -0.1)\">\n       <defs>\n        <path d=\"M 10.59375 35.5 \nL 73.1875 35.5 \nL 73.1875 27.203125 \nL 10.59375 27.203125 \nz\n\" id=\"DejaVuSans-8722\"/>\n        <path d=\"M 31.78125 66.40625 \nQ 24.171875 66.40625 20.328125 58.90625 \nQ 16.5 51.421875 16.5 36.375 \nQ 16.5 21.390625 20.328125 13.890625 \nQ 24.171875 6.390625 31.78125 6.390625 \nQ 39.453125 6.390625 43.28125 13.890625 \nQ 47.125 21.390625 47.125 36.375 \nQ 47.125 51.421875 43.28125 58.90625 \nQ 39.453125 66.40625 31.78125 66.40625 \nz\nM 31.78125 74.21875 \nQ 44.046875 74.21875 50.515625 64.515625 \nQ 56.984375 54.828125 56.984375 36.375 \nQ 56.984375 17.96875 50.515625 8.265625 \nQ 44.046875 -1.421875 31.78125 -1.421875 \nQ 19.53125 -1.421875 13.0625 8.265625 \nQ 6.59375 17.96875 6.59375 36.375 \nQ 6.59375 54.828125 13.0625 64.515625 \nQ 19.53125 74.21875 31.78125 74.21875 \nz\n\" id=\"DejaVuSans-48\"/>\n        <path d=\"M 10.6875 12.40625 \nL 21 12.40625 \nL 21 0 \nL 10.6875 0 \nz\n\" id=\"DejaVuSans-46\"/>\n        <path d=\"M 19.1875 8.296875 \nL 53.609375 8.296875 \nL 53.609375 0 \nL 7.328125 0 \nL 7.328125 8.296875 \nQ 12.9375 14.109375 22.625 23.890625 \nQ 32.328125 33.6875 34.8125 36.53125 \nQ 39.546875 41.84375 41.421875 45.53125 \nQ 43.3125 49.21875 43.3125 52.78125 \nQ 43.3125 58.59375 39.234375 62.25 \nQ 35.15625 65.921875 28.609375 65.921875 \nQ 23.96875 65.921875 18.8125 64.3125 \nQ 13.671875 62.703125 7.8125 59.421875 \nL 7.8125 69.390625 \nQ 13.765625 71.78125 18.9375 73 \nQ 24.125 74.21875 28.421875 74.21875 \nQ 39.75 74.21875 46.484375 68.546875 \nQ 53.21875 62.890625 53.21875 53.421875 \nQ 53.21875 48.921875 51.53125 44.890625 \nQ 49.859375 40.875 45.40625 35.40625 \nQ 44.1875 33.984375 37.640625 27.21875 \nQ 31.109375 20.453125 19.1875 8.296875 \nz\n\" id=\"DejaVuSans-50\"/>\n       </defs>\n       <use xlink:href=\"#DejaVuSans-8722\"/>\n       <use x=\"83.789062\" xlink:href=\"#DejaVuSans-48\"/>\n       <use x=\"147.412109\" xlink:href=\"#DejaVuSans-46\"/>\n       <use x=\"179.199219\" xlink:href=\"#DejaVuSans-50\"/>\n      </g>\n     </g>\n    </g>\n    <g id=\"ytick_6\">\n     <g id=\"line2d_14\">\n      <g>\n       <use style=\"stroke:#000000;stroke-width:0.8;\" x=\"369.295938\" xlink:href=\"#m8411324746\" y=\"205.68139\"/>\n      </g>\n     </g>\n     <g id=\"text_10\">\n      <!-- 0.0 -->\n      <g transform=\"translate(376.295938 209.480608)scale(0.1 -0.1)\">\n       <use xlink:href=\"#DejaVuSans-48\"/>\n       <use x=\"63.623047\" xlink:href=\"#DejaVuSans-46\"/>\n       <use x=\"95.410156\" xlink:href=\"#DejaVuSans-48\"/>\n      </g>\n     </g>\n    </g>\n    <g id=\"ytick_7\">\n     <g id=\"line2d_15\">\n      <g>\n       <use style=\"stroke:#000000;stroke-width:0.8;\" x=\"369.295938\" xlink:href=\"#m8411324746\" y=\"169.376362\"/>\n      </g>\n     </g>\n     <g id=\"text_11\">\n      <!-- 0.2 -->\n      <g transform=\"translate(376.295938 173.17558)scale(0.1 -0.1)\">\n       <use xlink:href=\"#DejaVuSans-48\"/>\n       <use x=\"63.623047\" xlink:href=\"#DejaVuSans-46\"/>\n       <use x=\"95.410156\" xlink:href=\"#DejaVuSans-50\"/>\n      </g>\n     </g>\n    </g>\n    <g id=\"ytick_8\">\n     <g id=\"line2d_16\">\n      <g>\n       <use style=\"stroke:#000000;stroke-width:0.8;\" x=\"369.295938\" xlink:href=\"#m8411324746\" y=\"133.071334\"/>\n      </g>\n     </g>\n     <g id=\"text_12\">\n      <!-- 0.4 -->\n      <g transform=\"translate(376.295938 136.870552)scale(0.1 -0.1)\">\n       <defs>\n        <path d=\"M 37.796875 64.3125 \nL 12.890625 25.390625 \nL 37.796875 25.390625 \nz\nM 35.203125 72.90625 \nL 47.609375 72.90625 \nL 47.609375 25.390625 \nL 58.015625 25.390625 \nL 58.015625 17.1875 \nL 47.609375 17.1875 \nL 47.609375 0 \nL 37.796875 0 \nL 37.796875 17.1875 \nL 4.890625 17.1875 \nL 4.890625 26.703125 \nz\n\" id=\"DejaVuSans-52\"/>\n       </defs>\n       <use xlink:href=\"#DejaVuSans-48\"/>\n       <use x=\"63.623047\" xlink:href=\"#DejaVuSans-46\"/>\n       <use x=\"95.410156\" xlink:href=\"#DejaVuSans-52\"/>\n      </g>\n     </g>\n    </g>\n    <g id=\"ytick_9\">\n     <g id=\"line2d_17\">\n      <g>\n       <use style=\"stroke:#000000;stroke-width:0.8;\" x=\"369.295938\" xlink:href=\"#m8411324746\" y=\"96.766306\"/>\n      </g>\n     </g>\n     <g id=\"text_13\">\n      <!-- 0.6 -->\n      <g transform=\"translate(376.295938 100.565525)scale(0.1 -0.1)\">\n       <defs>\n        <path d=\"M 33.015625 40.375 \nQ 26.375 40.375 22.484375 35.828125 \nQ 18.609375 31.296875 18.609375 23.390625 \nQ 18.609375 15.53125 22.484375 10.953125 \nQ 26.375 6.390625 33.015625 6.390625 \nQ 39.65625 6.390625 43.53125 10.953125 \nQ 47.40625 15.53125 47.40625 23.390625 \nQ 47.40625 31.296875 43.53125 35.828125 \nQ 39.65625 40.375 33.015625 40.375 \nz\nM 52.59375 71.296875 \nL 52.59375 62.3125 \nQ 48.875 64.0625 45.09375 64.984375 \nQ 41.3125 65.921875 37.59375 65.921875 \nQ 27.828125 65.921875 22.671875 59.328125 \nQ 17.53125 52.734375 16.796875 39.40625 \nQ 19.671875 43.65625 24.015625 45.921875 \nQ 28.375 48.1875 33.59375 48.1875 \nQ 44.578125 48.1875 50.953125 41.515625 \nQ 57.328125 34.859375 57.328125 23.390625 \nQ 57.328125 12.15625 50.6875 5.359375 \nQ 44.046875 -1.421875 33.015625 -1.421875 \nQ 20.359375 -1.421875 13.671875 8.265625 \nQ 6.984375 17.96875 6.984375 36.375 \nQ 6.984375 53.65625 15.1875 63.9375 \nQ 23.390625 74.21875 37.203125 74.21875 \nQ 40.921875 74.21875 44.703125 73.484375 \nQ 48.484375 72.75 52.59375 71.296875 \nz\n\" id=\"DejaVuSans-54\"/>\n       </defs>\n       <use xlink:href=\"#DejaVuSans-48\"/>\n       <use x=\"63.623047\" xlink:href=\"#DejaVuSans-46\"/>\n       <use x=\"95.410156\" xlink:href=\"#DejaVuSans-54\"/>\n      </g>\n     </g>\n    </g>\n    <g id=\"ytick_10\">\n     <g id=\"line2d_18\">\n      <g>\n       <use style=\"stroke:#000000;stroke-width:0.8;\" x=\"369.295938\" xlink:href=\"#m8411324746\" y=\"60.461278\"/>\n      </g>\n     </g>\n     <g id=\"text_14\">\n      <!-- 0.8 -->\n      <g transform=\"translate(376.295938 64.260497)scale(0.1 -0.1)\">\n       <defs>\n        <path d=\"M 31.78125 34.625 \nQ 24.75 34.625 20.71875 30.859375 \nQ 16.703125 27.09375 16.703125 20.515625 \nQ 16.703125 13.921875 20.71875 10.15625 \nQ 24.75 6.390625 31.78125 6.390625 \nQ 38.8125 6.390625 42.859375 10.171875 \nQ 46.921875 13.96875 46.921875 20.515625 \nQ 46.921875 27.09375 42.890625 30.859375 \nQ 38.875 34.625 31.78125 34.625 \nz\nM 21.921875 38.8125 \nQ 15.578125 40.375 12.03125 44.71875 \nQ 8.5 49.078125 8.5 55.328125 \nQ 8.5 64.0625 14.71875 69.140625 \nQ 20.953125 74.21875 31.78125 74.21875 \nQ 42.671875 74.21875 48.875 69.140625 \nQ 55.078125 64.0625 55.078125 55.328125 \nQ 55.078125 49.078125 51.53125 44.71875 \nQ 48 40.375 41.703125 38.8125 \nQ 48.828125 37.15625 52.796875 32.3125 \nQ 56.78125 27.484375 56.78125 20.515625 \nQ 56.78125 9.90625 50.3125 4.234375 \nQ 43.84375 -1.421875 31.78125 -1.421875 \nQ 19.734375 -1.421875 13.25 4.234375 \nQ 6.78125 9.90625 6.78125 20.515625 \nQ 6.78125 27.484375 10.78125 32.3125 \nQ 14.796875 37.15625 21.921875 38.8125 \nz\nM 18.3125 54.390625 \nQ 18.3125 48.734375 21.84375 45.5625 \nQ 25.390625 42.390625 31.78125 42.390625 \nQ 38.140625 42.390625 41.71875 45.5625 \nQ 45.3125 48.734375 45.3125 54.390625 \nQ 45.3125 60.0625 41.71875 63.234375 \nQ 38.140625 66.40625 31.78125 66.40625 \nQ 25.390625 66.40625 21.84375 63.234375 \nQ 18.3125 60.0625 18.3125 54.390625 \nz\n\" id=\"DejaVuSans-56\"/>\n       </defs>\n       <use xlink:href=\"#DejaVuSans-48\"/>\n       <use x=\"63.623047\" xlink:href=\"#DejaVuSans-46\"/>\n       <use x=\"95.410156\" xlink:href=\"#DejaVuSans-56\"/>\n      </g>\n     </g>\n    </g>\n    <g id=\"ytick_11\">\n     <g id=\"line2d_19\">\n      <g>\n       <use style=\"stroke:#000000;stroke-width:0.8;\" x=\"369.295938\" xlink:href=\"#m8411324746\" y=\"24.15625\"/>\n      </g>\n     </g>\n     <g id=\"text_15\">\n      <!-- 1.0 -->\n      <g transform=\"translate(376.295938 27.955469)scale(0.1 -0.1)\">\n       <defs>\n        <path d=\"M 12.40625 8.296875 \nL 28.515625 8.296875 \nL 28.515625 63.921875 \nL 10.984375 60.40625 \nL 10.984375 69.390625 \nL 28.421875 72.90625 \nL 38.28125 72.90625 \nL 38.28125 8.296875 \nL 54.390625 8.296875 \nL 54.390625 0 \nL 12.40625 0 \nz\n\" id=\"DejaVuSans-49\"/>\n       </defs>\n       <use xlink:href=\"#DejaVuSans-49\"/>\n       <use x=\"63.623047\" xlink:href=\"#DejaVuSans-46\"/>\n       <use x=\"95.410156\" xlink:href=\"#DejaVuSans-48\"/>\n      </g>\n     </g>\n    </g>\n   </g>\n   <g id=\"patch_8\">\n    <path d=\"M 357.04625 269.15 \nL 357.04625 268.192993 \nL 357.04625 25.113257 \nL 357.04625 24.15625 \nL 369.295938 24.15625 \nL 369.295938 25.113257 \nL 369.295938 268.192993 \nL 369.295938 269.15 \nz\n\" style=\"fill:none;stroke:#000000;stroke-linejoin:miter;stroke-width:0.8;\"/>\n   </g>\n  </g>\n </g>\n <defs>\n  <clipPath id=\"pf46caf062b\">\n   <rect height=\"244.99375\" width=\"244.99375\" x=\"93.3125\" y=\"24.15625\"/>\n  </clipPath>\n  <clipPath id=\"pcd43ee179e\">\n   <rect height=\"244.99375\" width=\"12.249688\" x=\"357.04625\" y=\"24.15625\"/>\n  </clipPath>\n </defs>\n</svg>\n",
      "image/png": "[encoded data removed]"
     },
     "metadata": {
      "needs_background": "light"
     }
    }
   ],
   "source": [
    "# Select columns\n",
    "cols = eur_data_final.columns\n",
    "\n",
    "# Make subplot and figure\n",
    "fig, ax = plt.subplots(1, 1)\n",
    "\n",
    "# Generate correlation matrix\n",
    "corr_data = eur_data_final.corr()\n",
    "\n",
    "# Generate matplotlib plot\n",
    "cax = ax.matshow(corr_data) \n",
    "\n",
    "# Add colorbar to figure\n",
    "fig.colorbar(cax)\n",
    "\n",
    "# Set tick labels\n",
    "ax.set_xticklabels(cols)\n",
    "ax.set_yticklabels(cols)\n",
    "\n",
    "fig.tight_layout()"
   ]
  }
 ]
}